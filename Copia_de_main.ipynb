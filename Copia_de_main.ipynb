{
  "nbformat": 4,
  "nbformat_minor": 0,
  "metadata": {
    "colab": {
      "provenance": [],
      "toc_visible": true,
      "include_colab_link": true
    },
    "kernelspec": {
      "name": "python3",
      "display_name": "Python 3"
    },
    "language_info": {
      "name": "python"
    }
  },
  "cells": [
    {
      "cell_type": "markdown",
      "metadata": {
        "id": "view-in-github",
        "colab_type": "text"
      },
      "source": [
        "<a href=\"https://colab.research.google.com/github/100451218/Grupo42-Practica1/blob/main/Copia_de_main.ipynb\" target=\"_parent\"><img src=\"https://colab.research.google.com/assets/colab-badge.svg\" alt=\"Open In Colab\"/></a>"
      ]
    },
    {
      "cell_type": "markdown",
      "source": [
        "100451218- Sergi Vila\n",
        "100451058-Daniel Obreo"
      ],
      "metadata": {
        "id": "6X8Z1eajr-0a"
      }
    },
    {
      "cell_type": "markdown",
      "source": [
        "# Análisis exploratorio de datos"
      ],
      "metadata": {
        "id": "GdRs8jjy5_mo"
      }
    },
    {
      "cell_type": "markdown",
      "source": [
        "Para el análisis exploratorio de datos vamos a observar:\n",
        "1. Qué valores son siempre 0\n",
        "2. Qué valores son constantes\n",
        "3. Qué correlación hay entre columnas\n",
        "4. Qué correlación hay entre las columnas y la salida\n",
        "5. Hipótesis\n"
      ],
      "metadata": {
        "id": "eYkeVq-6WT0b"
      }
    },
    {
      "cell_type": "markdown",
      "source": [
        "### Importamos las librerías y cargamos los datos\n"
      ],
      "metadata": {
        "id": "TW3z963r6xCD"
      }
    },
    {
      "cell_type": "code",
      "execution_count": 39,
      "metadata": {
        "id": "0gvfEN5UrgTS",
        "outputId": "af0ca4a0-7933-4ba1-9935-388be7929039",
        "colab": {
          "base_uri": "https://localhost:8080/"
        }
      },
      "outputs": [
        {
          "output_type": "stream",
          "name": "stdout",
          "text": [
            "Looking in indexes: https://pypi.org/simple, https://us-python.pkg.dev/colab-wheels/public/simple/\n",
            "Requirement already satisfied: pd in /usr/local/lib/python3.9/dist-packages (0.0.4)\n",
            "Looking in indexes: https://pypi.org/simple, https://us-python.pkg.dev/colab-wheels/public/simple/\n",
            "Requirement already satisfied: seaborn in /usr/local/lib/python3.9/dist-packages (0.11.2)\n",
            "Requirement already satisfied: numpy>=1.15 in /usr/local/lib/python3.9/dist-packages (from seaborn) (1.22.4)\n",
            "Requirement already satisfied: scipy>=1.0 in /usr/local/lib/python3.9/dist-packages (from seaborn) (1.10.1)\n",
            "Requirement already satisfied: matplotlib>=2.2 in /usr/local/lib/python3.9/dist-packages (from seaborn) (3.5.3)\n",
            "Requirement already satisfied: pandas>=0.23 in /usr/local/lib/python3.9/dist-packages (from seaborn) (1.4.4)\n",
            "Requirement already satisfied: pillow>=6.2.0 in /usr/local/lib/python3.9/dist-packages (from matplotlib>=2.2->seaborn) (8.4.0)\n",
            "Requirement already satisfied: python-dateutil>=2.7 in /usr/local/lib/python3.9/dist-packages (from matplotlib>=2.2->seaborn) (2.8.2)\n",
            "Requirement already satisfied: fonttools>=4.22.0 in /usr/local/lib/python3.9/dist-packages (from matplotlib>=2.2->seaborn) (4.39.0)\n",
            "Requirement already satisfied: pyparsing>=2.2.1 in /usr/local/lib/python3.9/dist-packages (from matplotlib>=2.2->seaborn) (3.0.9)\n",
            "Requirement already satisfied: cycler>=0.10 in /usr/local/lib/python3.9/dist-packages (from matplotlib>=2.2->seaborn) (0.11.0)\n",
            "Requirement already satisfied: kiwisolver>=1.0.1 in /usr/local/lib/python3.9/dist-packages (from matplotlib>=2.2->seaborn) (1.4.4)\n",
            "Requirement already satisfied: packaging>=20.0 in /usr/local/lib/python3.9/dist-packages (from matplotlib>=2.2->seaborn) (23.0)\n",
            "Requirement already satisfied: pytz>=2020.1 in /usr/local/lib/python3.9/dist-packages (from pandas>=0.23->seaborn) (2022.7.1)\n",
            "Requirement already satisfied: six>=1.5 in /usr/local/lib/python3.9/dist-packages (from python-dateutil>=2.7->matplotlib>=2.2->seaborn) (1.15.0)\n"
          ]
        }
      ],
      "source": [
        "!pip install pd\n",
        "!pip install seaborn\n",
        "\n",
        "import pandas as pd\n",
        "#Importamos los dos conjuntos de datos.\n",
        "disp_df = pd.read_csv(\"disp_st42ns1.txt.bz2\",\n",
        " compression=\"bz2\", \n",
        " index_col=0)\n",
        "comp_df = pd.read_csv(\"comp_st42ns1.txt.bz2\", \n",
        " compression=\"bz2\", \n",
        " index_col=0)\n",
        "#print(disp_df['apcp_sf1_1'][0])\n",
        "pd.set_option('display.max_columns', None)\n"
      ]
    },
    {
      "cell_type": "markdown",
      "source": [
        "### Comprobamos valores a 0\n"
      ],
      "metadata": {
        "id": "ZH8Mm9Tj7TMc"
      }
    },
    {
      "cell_type": "code",
      "source": [
        "for i in disp_df:\n",
        "  if disp_df[i].sum()==0:\n",
        "    print(i)\n",
        "  \"\"\"Con esta linea podemos ver las filas con todos los valores en 0, ya que \n",
        "  vemos después que no hay números negativos\"\"\"\n",
        "  # print(i ,\": \",disp_df[i].value_counts())\n",
        "  for k in range(len(disp_df[i])):\n",
        "    if disp_df[i][k]<0:\n",
        "      \"\"\"Si hubiera un número negativo se imprimiría hay\"\"\"\n",
        "      print(\"Hay\")"
      ],
      "metadata": {
        "colab": {
          "base_uri": "https://localhost:8080/"
        },
        "id": "-2kKbVD-7XS7",
        "outputId": "1a8889ec-446d-4c87-95e3-9c6473463b72"
      },
      "execution_count": 40,
      "outputs": [
        {
          "output_type": "stream",
          "name": "stdout",
          "text": [
            "uswrf_s1_1\n"
          ]
        }
      ]
    },
    {
      "cell_type": "markdown",
      "source": [
        "Hemos podido observar que la columna uswrf_s1_1 es inútil"
      ],
      "metadata": {
        "id": "qROtYg7BPT1_"
      }
    },
    {
      "cell_type": "markdown",
      "source": [
        "### Comprobamos valores constantes\n"
      ],
      "metadata": {
        "id": "OvX_7Xgi7f4m"
      }
    },
    {
      "cell_type": "code",
      "source": [
        "#También vamos a comprobar si el valor es constante\n",
        "\"\"\"print(disp_df[\"uswrf_s1_1\"].nunique())\"\"\"\n",
        "#Cómo hemos dicho antes, sólo hay un número único\n",
        "for i in disp_df:\n",
        "  if disp_df[i].nunique()==1:\n",
        "    print(i)"
      ],
      "metadata": {
        "colab": {
          "base_uri": "https://localhost:8080/"
        },
        "id": "DoQ1g-9jPZRJ",
        "outputId": "90fe3ebe-1693-4748-f22d-07df3fa50d21"
      },
      "execution_count": 41,
      "outputs": [
        {
          "output_type": "stream",
          "name": "stdout",
          "text": [
            "uswrf_s1_1\n"
          ]
        }
      ]
    },
    {
      "cell_type": "markdown",
      "source": [
        "Sale la misma columna ya que es constante en 0\n"
      ],
      "metadata": {
        "id": "vlppAEdO7lwe"
      }
    },
    {
      "cell_type": "markdown",
      "source": [
        "### Comprobamos correlación entre columnas\n",
        "\n",
        "Vamos a mirar para un umbral de 0.95"
      ],
      "metadata": {
        "id": "EC3ewTwP7ttI"
      }
    },
    {
      "cell_type": "code",
      "source": [
        "list=[]\n",
        "for i in disp_df:\n",
        "  for k in disp_df:\n",
        "    \"\"\"print(disp_df[i].corr(disp_df[k]))\"\"\"\n",
        "    #Esto nos sirve para saber que 1 es el máximo\n",
        "    if i!=k and not -0.95<=disp_df[i].corr(disp_df[k])<=0.95 and i!=\"uswrf_s1_1\" and k!=\"uswrf_s1_1\":\n",
        "      if [i,k] not in list and [k,i] not in list:\n",
        "        list.append([i,k])\n",
        "        print(i,\", \",k,\" : \",disp_df[i].corr(disp_df[k]))\n",
        "      \n",
        "print(list)"
      ],
      "metadata": {
        "colab": {
          "base_uri": "https://localhost:8080/"
        },
        "id": "vq1zcsNlQvS9",
        "outputId": "366cc082-4ded-4944-cc94-4493ccae6102"
      },
      "execution_count": 42,
      "outputs": [
        {
          "output_type": "stream",
          "name": "stdout",
          "text": [
            "dlwrf_s1_1 ,  dlwrf_s2_1  :  0.9703837115052251\n",
            "dlwrf_s1_1 ,  dlwrf_s3_1  :  0.9618644397452982\n",
            "dlwrf_s2_1 ,  dlwrf_s3_1  :  0.9941484165303395\n",
            "dlwrf_s3_1 ,  dlwrf_s4_1  :  0.9714313070426391\n",
            "dlwrf_s3_1 ,  dlwrf_s5_1  :  0.9628906707604897\n",
            "dlwrf_s4_1 ,  dlwrf_s5_1  :  0.9976436933451329\n",
            "dswrf_s2_1 ,  dswrf_s3_1  :  0.9571667754289556\n",
            "dswrf_s2_1 ,  uswrf_s2_1  :  0.9942986544231128\n",
            "dswrf_s3_1 ,  uswrf_s2_1  :  0.964297736448637\n",
            "dswrf_s3_1 ,  uswrf_s3_1  :  0.9620365523744548\n",
            "dswrf_s4_1 ,  dswrf_s5_1  :  0.9846653842283272\n",
            "pres_ms1_1 ,  pres_ms2_1  :  0.9861133756671324\n",
            "pres_ms1_1 ,  pres_ms3_1  :  0.9501939300486043\n",
            "pres_ms2_1 ,  pres_ms3_1  :  0.9855174686825475\n",
            "pres_ms3_1 ,  pres_ms4_1  :  0.9852195616314235\n",
            "pres_ms3_1 ,  pres_ms5_1  :  0.9503729775888822\n",
            "pres_ms4_1 ,  pres_ms5_1  :  0.983982500363903\n",
            "pwat_ea1_1 ,  pwat_ea2_1  :  0.987536536664307\n",
            "pwat_ea1_1 ,  pwat_ea3_1  :  0.963475239218834\n",
            "pwat_ea2_1 ,  pwat_ea3_1  :  0.9888327077899062\n",
            "pwat_ea2_1 ,  pwat_ea4_1  :  0.9641615077236247\n",
            "pwat_ea3_1 ,  pwat_ea4_1  :  0.9876766173812521\n",
            "pwat_ea3_1 ,  pwat_ea5_1  :  0.9599805697947899\n",
            "pwat_ea4_1 ,  pwat_ea5_1  :  0.9866668820482905\n",
            "spfh_2m1_1 ,  spfh_2m2_1  :  0.9774693823508754\n",
            "spfh_2m2_1 ,  spfh_2m3_1  :  0.9785184403976822\n",
            "spfh_2m3_1 ,  spfh_2m4_1  :  0.9796009267620638\n",
            "spfh_2m3_1 ,  spfh_2m5_1  :  0.9582539207433676\n",
            "spfh_2m4_1 ,  spfh_2m5_1  :  0.9881530174283563\n",
            "tcdc_ea1_1 ,  tcolc_e1_1  :  0.999977884315217\n",
            "tcdc_ea2_1 ,  tcolc_e2_1  :  0.9999803755794225\n",
            "tcdc_ea3_1 ,  tcolc_e3_1  :  0.9999795855646263\n",
            "tcdc_ea4_1 ,  tcolc_e4_1  :  0.999975898110073\n",
            "tcdc_ea5_1 ,  tcolc_e5_1  :  0.9999715058573335\n",
            "tmax_2m1_1 ,  tmax_2m2_1  :  0.9724897672414627\n",
            "tmax_2m1_1 ,  tmin_2m1_1  :  0.989056386514375\n",
            "tmax_2m1_1 ,  tmin_2m2_1  :  0.9833942905012109\n",
            "tmax_2m1_1 ,  tmin_2m3_1  :  0.9830352978705852\n",
            "tmax_2m1_1 ,  tmp_2m_1_1  :  0.9873969132950682\n",
            "tmax_2m1_1 ,  tmp_2m_2_1  :  0.9688954299253763\n",
            "tmax_2m1_1 ,  tmp_sfc1_1  :  0.9844868652232457\n",
            "tmax_2m1_1 ,  tmp_sfc2_1  :  0.9575154013071906\n",
            "tmax_2m1_1 ,  ulwrf_s1_1  :  0.9924162717155949\n",
            "tmax_2m1_1 ,  ulwrf_s2_1  :  0.9743550672162224\n",
            "tmax_2m1_1 ,  ulwrf_s3_1  :  0.9609302989327574\n",
            "tmax_2m2_1 ,  tmax_2m3_1  :  0.985671383790568\n",
            "tmax_2m2_1 ,  tmax_2m4_1  :  0.9674088612972191\n",
            "tmax_2m2_1 ,  tmax_2m5_1  :  0.9661700588392864\n",
            "tmax_2m2_1 ,  tmin_2m1_1  :  0.982260351500139\n",
            "tmax_2m2_1 ,  tmin_2m2_1  :  0.9864003795613444\n",
            "tmax_2m2_1 ,  tmin_2m3_1  :  0.9864362288141282\n",
            "tmax_2m2_1 ,  tmin_2m4_1  :  0.9809370434214474\n",
            "tmax_2m2_1 ,  tmin_2m5_1  :  0.9743721937876045\n",
            "tmax_2m2_1 ,  tmp_2m_1_1  :  0.9831565195310004\n",
            "tmax_2m2_1 ,  tmp_2m_2_1  :  0.9992834032396157\n",
            "tmax_2m2_1 ,  tmp_2m_3_1  :  0.9834195825162696\n",
            "tmax_2m2_1 ,  tmp_2m_4_1  :  0.9639465379725813\n",
            "tmax_2m2_1 ,  tmp_2m_5_1  :  0.9647323215612712\n",
            "tmax_2m2_1 ,  tmp_sfc1_1  :  0.9744486594777503\n",
            "tmax_2m2_1 ,  tmp_sfc2_1  :  0.9918925672159637\n",
            "tmax_2m2_1 ,  tmp_sfc3_1  :  0.9601906768001106\n",
            "tmax_2m2_1 ,  tmp_sfc4_1  :  0.950573234613489\n",
            "tmax_2m2_1 ,  tmp_sfc5_1  :  0.9654486189767068\n",
            "tmax_2m2_1 ,  ulwrf_s1_1  :  0.9715881682393587\n",
            "tmax_2m2_1 ,  ulwrf_s2_1  :  0.9892425513588253\n",
            "tmax_2m2_1 ,  ulwrf_s3_1  :  0.9909487821493767\n",
            "tmax_2m2_1 ,  ulwrf_s4_1  :  0.9548744393127798\n",
            "tmax_2m2_1 ,  ulwrf_s5_1  :  0.9599134944218464\n",
            "tmax_2m3_1 ,  tmax_2m4_1  :  0.9932155319672418\n",
            "tmax_2m3_1 ,  tmax_2m5_1  :  0.9918528530224062\n",
            "tmax_2m3_1 ,  tmin_2m1_1  :  0.9550113483380075\n",
            "tmax_2m3_1 ,  tmin_2m2_1  :  0.9617950175772039\n",
            "tmax_2m3_1 ,  tmin_2m3_1  :  0.9623980222433619\n",
            "tmax_2m3_1 ,  tmin_2m4_1  :  0.9986140521743142\n",
            "tmax_2m3_1 ,  tmin_2m5_1  :  0.9887081844388815\n",
            "tmax_2m3_1 ,  tmp_2m_1_1  :  0.9561744020698948\n",
            "tmax_2m3_1 ,  tmp_2m_2_1  :  0.987335897105345\n",
            "tmax_2m3_1 ,  tmp_2m_3_1  :  0.9994790214287826\n",
            "tmax_2m3_1 ,  tmp_2m_4_1  :  0.990917632685966\n",
            "tmax_2m3_1 ,  tmp_2m_5_1  :  0.9791567373613668\n",
            "tmax_2m3_1 ,  tmp_sfc2_1  :  0.9787804410917824\n",
            "tmax_2m3_1 ,  tmp_sfc3_1  :  0.9808274729878784\n",
            "tmax_2m3_1 ,  tmp_sfc4_1  :  0.9750511698471924\n",
            "tmax_2m3_1 ,  tmp_sfc5_1  :  0.970316269000124\n",
            "tmax_2m3_1 ,  ulwrf_s2_1  :  0.96279492003488\n",
            "tmax_2m3_1 ,  ulwrf_s3_1  :  0.9814956435371066\n",
            "tmax_2m3_1 ,  ulwrf_s4_1  :  0.9769621879732242\n",
            "tmax_2m3_1 ,  ulwrf_s5_1  :  0.97825377218904\n",
            "tmax_2m4_1 ,  tmax_2m5_1  :  0.9997763091522931\n",
            "tmax_2m4_1 ,  tmin_2m4_1  :  0.995227401324633\n",
            "tmax_2m4_1 ,  tmin_2m5_1  :  0.9902281962655157\n",
            "tmax_2m4_1 ,  tmp_2m_2_1  :  0.9704273089707779\n",
            "tmax_2m4_1 ,  tmp_2m_3_1  :  0.9942060791070809\n",
            "tmax_2m4_1 ,  tmp_2m_4_1  :  0.9993337962089638\n",
            "tmax_2m4_1 ,  tmp_2m_5_1  :  0.9864449361164253\n",
            "tmax_2m4_1 ,  tmp_sfc2_1  :  0.9635448652291986\n",
            "tmax_2m4_1 ,  tmp_sfc3_1  :  0.9800786432147343\n",
            "tmax_2m4_1 ,  tmp_sfc4_1  :  0.9851795066135184\n",
            "tmax_2m4_1 ,  tmp_sfc5_1  :  0.9734379959027885\n",
            "tmax_2m4_1 ,  ulwrf_s3_1  :  0.9675001985447437\n",
            "tmax_2m4_1 ,  ulwrf_s4_1  :  0.9815524520981147\n",
            "tmax_2m4_1 ,  ulwrf_s5_1  :  0.9839305310878618\n",
            "tmax_2m5_1 ,  tmin_2m4_1  :  0.9939262271086854\n",
            "tmax_2m5_1 ,  tmin_2m5_1  :  0.9900034740853147\n",
            "tmax_2m5_1 ,  tmp_2m_2_1  :  0.9692202856726265\n",
            "tmax_2m5_1 ,  tmp_2m_3_1  :  0.9928207401008318\n",
            "tmax_2m5_1 ,  tmp_2m_4_1  :  0.9992067250706518\n",
            "tmax_2m5_1 ,  tmp_2m_5_1  :  0.9877793449270714\n",
            "tmax_2m5_1 ,  tmp_sfc2_1  :  0.9628057126866638\n",
            "tmax_2m5_1 ,  tmp_sfc3_1  :  0.9789886970467229\n",
            "tmax_2m5_1 ,  tmp_sfc4_1  :  0.9856112141353488\n",
            "tmax_2m5_1 ,  tmp_sfc5_1  :  0.9749315637251419\n",
            "tmax_2m5_1 ,  ulwrf_s3_1  :  0.9665344570534807\n",
            "tmax_2m5_1 ,  ulwrf_s4_1  :  0.9810623570276584\n",
            "tmax_2m5_1 ,  ulwrf_s5_1  :  0.984200309861663\n",
            "tmin_2m1_1 ,  tmin_2m2_1  :  0.9970453886385309\n",
            "tmin_2m1_1 ,  tmin_2m3_1  :  0.9967256583046243\n",
            "tmin_2m1_1 ,  tmp_2m_1_1  :  0.998900820265764\n",
            "tmin_2m1_1 ,  tmp_2m_2_1  :  0.9796606234192073\n",
            "tmin_2m1_1 ,  tmp_2m_3_1  :  0.9518542219855283\n",
            "tmin_2m1_1 ,  tmp_sfc1_1  :  0.9957322491109326\n",
            "tmin_2m1_1 ,  tmp_sfc2_1  :  0.9636513426139934\n",
            "tmin_2m1_1 ,  ulwrf_s1_1  :  0.9930103631464741\n",
            "tmin_2m1_1 ,  ulwrf_s2_1  :  0.9830734818308847\n",
            "tmin_2m1_1 ,  ulwrf_s3_1  :  0.9669978440724937\n",
            "tmin_2m2_1 ,  tmin_2m3_1  :  0.9999115519778132\n",
            "tmin_2m2_1 ,  tmin_2m4_1  :  0.9564185823019342\n",
            "tmin_2m2_1 ,  tmp_2m_1_1  :  0.9984565815420816\n",
            "tmin_2m2_1 ,  tmp_2m_2_1  :  0.985442492553938\n",
            "tmin_2m2_1 ,  tmp_2m_3_1  :  0.9595063058203509\n",
            "tmin_2m2_1 ,  tmp_sfc1_1  :  0.9951955535762588\n",
            "tmin_2m2_1 ,  tmp_sfc2_1  :  0.9700486321043892\n",
            "tmin_2m2_1 ,  ulwrf_s1_1  :  0.9886969444514435\n",
            "tmin_2m2_1 ,  ulwrf_s2_1  :  0.9879101310545606\n",
            "tmin_2m2_1 ,  ulwrf_s3_1  :  0.9729560097445457\n",
            "tmin_2m3_1 ,  tmin_2m4_1  :  0.9574516636355005\n",
            "tmin_2m3_1 ,  tmp_2m_1_1  :  0.9981165089440885\n",
            "tmin_2m3_1 ,  tmp_2m_2_1  :  0.9857209111196503\n",
            "tmin_2m3_1 ,  tmp_2m_3_1  :  0.9604726454407568\n",
            "tmin_2m3_1 ,  tmp_sfc1_1  :  0.9947707412846636\n",
            "tmin_2m3_1 ,  tmp_sfc2_1  :  0.9703992425913751\n",
            "tmin_2m3_1 ,  ulwrf_s1_1  :  0.9883110930292855\n",
            "tmin_2m3_1 ,  ulwrf_s2_1  :  0.9878400001933759\n",
            "tmin_2m3_1 ,  ulwrf_s3_1  :  0.9733940467349225\n",
            "tmin_2m4_1 ,  tmin_2m5_1  :  0.9911267936033283\n",
            "tmin_2m4_1 ,  tmp_2m_2_1  :  0.9835213848148546\n",
            "tmin_2m4_1 ,  tmp_2m_3_1  :  0.9993742471589702\n",
            "tmin_2m4_1 ,  tmp_2m_4_1  :  0.9943422078769039\n",
            "tmin_2m4_1 ,  tmp_2m_5_1  :  0.9819734099052692\n",
            "tmin_2m4_1 ,  tmp_sfc2_1  :  0.9754215350913839\n",
            "tmin_2m4_1 ,  tmp_sfc3_1  :  0.982489319858658\n",
            "tmin_2m4_1 ,  tmp_sfc4_1  :  0.9793188267492576\n",
            "tmin_2m4_1 ,  tmp_sfc5_1  :  0.9717899319272214\n",
            "tmin_2m4_1 ,  ulwrf_s2_1  :  0.9577696807840057\n",
            "tmin_2m4_1 ,  ulwrf_s3_1  :  0.9787999594412927\n",
            "tmin_2m4_1 ,  ulwrf_s4_1  :  0.980143449620344\n",
            "tmin_2m4_1 ,  ulwrf_s5_1  :  0.9813771133745596\n",
            "tmin_2m5_1 ,  tmp_2m_2_1  :  0.9768096456462427\n",
            "tmin_2m5_1 ,  tmp_2m_3_1  :  0.9893370688323362\n",
            "tmin_2m5_1 ,  tmp_2m_4_1  :  0.9908772850680976\n",
            "tmin_2m5_1 ,  tmp_2m_5_1  :  0.9960334550240626\n",
            "tmin_2m5_1 ,  tmp_sfc2_1  :  0.9757894398550752\n",
            "tmin_2m5_1 ,  tmp_sfc3_1  :  0.9788575295460246\n",
            "tmin_2m5_1 ,  tmp_sfc4_1  :  0.9835105827516376\n",
            "tmin_2m5_1 ,  tmp_sfc5_1  :  0.9902872074811198\n",
            "tmin_2m5_1 ,  ulwrf_s2_1  :  0.9589857082323566\n",
            "tmin_2m5_1 ,  ulwrf_s3_1  :  0.9784901467524176\n",
            "tmin_2m5_1 ,  ulwrf_s4_1  :  0.9811321018008656\n",
            "tmin_2m5_1 ,  ulwrf_s5_1  :  0.9880540117657044\n",
            "tmp_2m_1_1 ,  tmp_2m_2_1  :  0.9805563096737225\n",
            "tmp_2m_1_1 ,  tmp_2m_3_1  :  0.9529801008571053\n",
            "tmp_2m_1_1 ,  tmp_sfc1_1  :  0.9964812699160899\n",
            "tmp_2m_1_1 ,  tmp_sfc2_1  :  0.9636845126631818\n",
            "tmp_2m_1_1 ,  ulwrf_s1_1  :  0.9913538257824956\n",
            "tmp_2m_1_1 ,  ulwrf_s2_1  :  0.9839163859252648\n",
            "tmp_2m_1_1 ,  ulwrf_s3_1  :  0.9672743168787754\n",
            "tmp_2m_2_1 ,  tmp_2m_3_1  :  0.9859406728253164\n",
            "tmp_2m_2_1 ,  tmp_2m_4_1  :  0.9670012406532359\n",
            "tmp_2m_2_1 ,  tmp_2m_5_1  :  0.9672062271039558\n",
            "tmp_2m_2_1 ,  tmp_sfc1_1  :  0.971562193636495\n",
            "tmp_2m_2_1 ,  tmp_sfc2_1  :  0.9927554012444447\n",
            "tmp_2m_2_1 ,  tmp_sfc3_1  :  0.9631525425367369\n",
            "tmp_2m_2_1 ,  tmp_sfc4_1  :  0.9534301924023092\n",
            "tmp_2m_2_1 ,  tmp_sfc5_1  :  0.9673874181562205\n",
            "tmp_2m_2_1 ,  ulwrf_s1_1  :  0.9683054750306163\n",
            "tmp_2m_2_1 ,  ulwrf_s2_1  :  0.9881797788608879\n",
            "tmp_2m_2_1 ,  ulwrf_s3_1  :  0.9915806558896973\n",
            "tmp_2m_2_1 ,  ulwrf_s4_1  :  0.9576129609159796\n",
            "tmp_2m_2_1 ,  ulwrf_s5_1  :  0.9624204861962447\n",
            "tmp_2m_3_1 ,  tmp_2m_4_1  :  0.9921027644203689\n",
            "tmp_2m_3_1 ,  tmp_2m_5_1  :  0.9797121777392374\n",
            "tmp_2m_3_1 ,  tmp_sfc2_1  :  0.9775476247187543\n",
            "tmp_2m_3_1 ,  tmp_sfc3_1  :  0.9820691886560374\n",
            "tmp_2m_3_1 ,  tmp_sfc4_1  :  0.9763383022408996\n",
            "tmp_2m_3_1 ,  tmp_sfc5_1  :  0.9703429486336607\n",
            "tmp_2m_3_1 ,  ulwrf_s2_1  :  0.9604204438375086\n",
            "tmp_2m_3_1 ,  ulwrf_s3_1  :  0.9804938202794544\n",
            "tmp_2m_3_1 ,  ulwrf_s4_1  :  0.9782153624560592\n",
            "tmp_2m_3_1 ,  ulwrf_s5_1  :  0.9791932701810832\n",
            "tmp_2m_4_1 ,  tmp_2m_5_1  :  0.9875528601203459\n",
            "tmp_2m_4_1 ,  tmp_sfc2_1  :  0.960624422657449\n",
            "tmp_2m_4_1 ,  tmp_sfc3_1  :  0.9792770660192405\n",
            "tmp_2m_4_1 ,  tmp_sfc4_1  :  0.9869090259085422\n",
            "tmp_2m_4_1 ,  tmp_sfc5_1  :  0.9738272150206101\n",
            "tmp_2m_4_1 ,  ulwrf_s3_1  :  0.9649262558395967\n",
            "tmp_2m_4_1 ,  ulwrf_s4_1  :  0.9821817415867544\n",
            "tmp_2m_4_1 ,  ulwrf_s5_1  :  0.9849565672923875\n",
            "tmp_2m_5_1 ,  tmp_sfc2_1  :  0.9697643332491326\n",
            "tmp_2m_5_1 ,  tmp_sfc3_1  :  0.9724836017385601\n",
            "tmp_2m_5_1 ,  tmp_sfc4_1  :  0.9843139991815588\n",
            "tmp_2m_5_1 ,  tmp_sfc5_1  :  0.9959415103906808\n",
            "tmp_2m_5_1 ,  ulwrf_s2_1  :  0.9528681615510463\n",
            "tmp_2m_5_1 ,  ulwrf_s3_1  :  0.9716219042552314\n",
            "tmp_2m_5_1 ,  ulwrf_s4_1  :  0.9781031046024419\n",
            "tmp_2m_5_1 ,  ulwrf_s5_1  :  0.9881965240907419\n",
            "tmp_sfc1_1 ,  tmp_sfc2_1  :  0.9589725251963025\n",
            "tmp_sfc1_1 ,  ulwrf_s1_1  :  0.9945207077467407\n",
            "tmp_sfc1_1 ,  ulwrf_s2_1  :  0.9851346861013133\n",
            "tmp_sfc1_1 ,  ulwrf_s3_1  :  0.9622951827455389\n",
            "tmp_sfc2_1 ,  tmp_sfc3_1  :  0.9715012456822736\n",
            "tmp_sfc2_1 ,  tmp_sfc4_1  :  0.9601110377479757\n",
            "tmp_sfc2_1 ,  tmp_sfc5_1  :  0.9758427242385672\n",
            "tmp_sfc2_1 ,  ulwrf_s1_1  :  0.9584319747371385\n",
            "tmp_sfc2_1 ,  ulwrf_s2_1  :  0.9883597139532562\n",
            "tmp_sfc2_1 ,  ulwrf_s3_1  :  0.996629047383539\n",
            "tmp_sfc2_1 ,  ulwrf_s4_1  :  0.9655179833343889\n",
            "tmp_sfc2_1 ,  ulwrf_s5_1  :  0.9703306321964995\n",
            "tmp_sfc3_1 ,  tmp_sfc4_1  :  0.989522193314478\n",
            "tmp_sfc3_1 ,  tmp_sfc5_1  :  0.9678004146767386\n",
            "tmp_sfc3_1 ,  ulwrf_s3_1  :  0.9766856429075442\n",
            "tmp_sfc3_1 ,  ulwrf_s4_1  :  0.9954450239499772\n",
            "tmp_sfc3_1 ,  ulwrf_s5_1  :  0.9908158435871326\n",
            "tmp_sfc4_1 ,  tmp_sfc5_1  :  0.9779131037432472\n",
            "tmp_sfc4_1 ,  ulwrf_s3_1  :  0.9655105552160815\n",
            "tmp_sfc4_1 ,  ulwrf_s4_1  :  0.9957715925666815\n",
            "tmp_sfc4_1 ,  ulwrf_s5_1  :  0.9967247736731752\n",
            "tmp_sfc5_1 ,  ulwrf_s2_1  :  0.9620709877849453\n",
            "tmp_sfc5_1 ,  ulwrf_s3_1  :  0.9763289741407619\n",
            "tmp_sfc5_1 ,  ulwrf_s4_1  :  0.9732079153686789\n",
            "tmp_sfc5_1 ,  ulwrf_s5_1  :  0.9852418909120759\n",
            "ulwrf_s1_1 ,  ulwrf_s2_1  :  0.9835448558639645\n",
            "ulwrf_s1_1 ,  ulwrf_s3_1  :  0.9640577336673629\n",
            "ulwrf_s2_1 ,  ulwrf_s3_1  :  0.9906687347164609\n",
            "ulwrf_s3_1 ,  ulwrf_s4_1  :  0.9738347421405523\n",
            "ulwrf_s3_1 ,  ulwrf_s5_1  :  0.9772971100975745\n",
            "ulwrf_s4_1 ,  ulwrf_s5_1  :  0.9976091460627659\n",
            "ulwrf_t2_1 ,  ulwrf_t3_1  :  0.9770930160651596\n",
            "ulwrf_t4_1 ,  ulwrf_t5_1  :  0.9797534221599368\n",
            "uswrf_s4_1 ,  uswrf_s5_1  :  0.955842759863491\n",
            "[['dlwrf_s1_1', 'dlwrf_s2_1'], ['dlwrf_s1_1', 'dlwrf_s3_1'], ['dlwrf_s2_1', 'dlwrf_s3_1'], ['dlwrf_s3_1', 'dlwrf_s4_1'], ['dlwrf_s3_1', 'dlwrf_s5_1'], ['dlwrf_s4_1', 'dlwrf_s5_1'], ['dswrf_s2_1', 'dswrf_s3_1'], ['dswrf_s2_1', 'uswrf_s2_1'], ['dswrf_s3_1', 'uswrf_s2_1'], ['dswrf_s3_1', 'uswrf_s3_1'], ['dswrf_s4_1', 'dswrf_s5_1'], ['pres_ms1_1', 'pres_ms2_1'], ['pres_ms1_1', 'pres_ms3_1'], ['pres_ms2_1', 'pres_ms3_1'], ['pres_ms3_1', 'pres_ms4_1'], ['pres_ms3_1', 'pres_ms5_1'], ['pres_ms4_1', 'pres_ms5_1'], ['pwat_ea1_1', 'pwat_ea2_1'], ['pwat_ea1_1', 'pwat_ea3_1'], ['pwat_ea2_1', 'pwat_ea3_1'], ['pwat_ea2_1', 'pwat_ea4_1'], ['pwat_ea3_1', 'pwat_ea4_1'], ['pwat_ea3_1', 'pwat_ea5_1'], ['pwat_ea4_1', 'pwat_ea5_1'], ['spfh_2m1_1', 'spfh_2m2_1'], ['spfh_2m2_1', 'spfh_2m3_1'], ['spfh_2m3_1', 'spfh_2m4_1'], ['spfh_2m3_1', 'spfh_2m5_1'], ['spfh_2m4_1', 'spfh_2m5_1'], ['tcdc_ea1_1', 'tcolc_e1_1'], ['tcdc_ea2_1', 'tcolc_e2_1'], ['tcdc_ea3_1', 'tcolc_e3_1'], ['tcdc_ea4_1', 'tcolc_e4_1'], ['tcdc_ea5_1', 'tcolc_e5_1'], ['tmax_2m1_1', 'tmax_2m2_1'], ['tmax_2m1_1', 'tmin_2m1_1'], ['tmax_2m1_1', 'tmin_2m2_1'], ['tmax_2m1_1', 'tmin_2m3_1'], ['tmax_2m1_1', 'tmp_2m_1_1'], ['tmax_2m1_1', 'tmp_2m_2_1'], ['tmax_2m1_1', 'tmp_sfc1_1'], ['tmax_2m1_1', 'tmp_sfc2_1'], ['tmax_2m1_1', 'ulwrf_s1_1'], ['tmax_2m1_1', 'ulwrf_s2_1'], ['tmax_2m1_1', 'ulwrf_s3_1'], ['tmax_2m2_1', 'tmax_2m3_1'], ['tmax_2m2_1', 'tmax_2m4_1'], ['tmax_2m2_1', 'tmax_2m5_1'], ['tmax_2m2_1', 'tmin_2m1_1'], ['tmax_2m2_1', 'tmin_2m2_1'], ['tmax_2m2_1', 'tmin_2m3_1'], ['tmax_2m2_1', 'tmin_2m4_1'], ['tmax_2m2_1', 'tmin_2m5_1'], ['tmax_2m2_1', 'tmp_2m_1_1'], ['tmax_2m2_1', 'tmp_2m_2_1'], ['tmax_2m2_1', 'tmp_2m_3_1'], ['tmax_2m2_1', 'tmp_2m_4_1'], ['tmax_2m2_1', 'tmp_2m_5_1'], ['tmax_2m2_1', 'tmp_sfc1_1'], ['tmax_2m2_1', 'tmp_sfc2_1'], ['tmax_2m2_1', 'tmp_sfc3_1'], ['tmax_2m2_1', 'tmp_sfc4_1'], ['tmax_2m2_1', 'tmp_sfc5_1'], ['tmax_2m2_1', 'ulwrf_s1_1'], ['tmax_2m2_1', 'ulwrf_s2_1'], ['tmax_2m2_1', 'ulwrf_s3_1'], ['tmax_2m2_1', 'ulwrf_s4_1'], ['tmax_2m2_1', 'ulwrf_s5_1'], ['tmax_2m3_1', 'tmax_2m4_1'], ['tmax_2m3_1', 'tmax_2m5_1'], ['tmax_2m3_1', 'tmin_2m1_1'], ['tmax_2m3_1', 'tmin_2m2_1'], ['tmax_2m3_1', 'tmin_2m3_1'], ['tmax_2m3_1', 'tmin_2m4_1'], ['tmax_2m3_1', 'tmin_2m5_1'], ['tmax_2m3_1', 'tmp_2m_1_1'], ['tmax_2m3_1', 'tmp_2m_2_1'], ['tmax_2m3_1', 'tmp_2m_3_1'], ['tmax_2m3_1', 'tmp_2m_4_1'], ['tmax_2m3_1', 'tmp_2m_5_1'], ['tmax_2m3_1', 'tmp_sfc2_1'], ['tmax_2m3_1', 'tmp_sfc3_1'], ['tmax_2m3_1', 'tmp_sfc4_1'], ['tmax_2m3_1', 'tmp_sfc5_1'], ['tmax_2m3_1', 'ulwrf_s2_1'], ['tmax_2m3_1', 'ulwrf_s3_1'], ['tmax_2m3_1', 'ulwrf_s4_1'], ['tmax_2m3_1', 'ulwrf_s5_1'], ['tmax_2m4_1', 'tmax_2m5_1'], ['tmax_2m4_1', 'tmin_2m4_1'], ['tmax_2m4_1', 'tmin_2m5_1'], ['tmax_2m4_1', 'tmp_2m_2_1'], ['tmax_2m4_1', 'tmp_2m_3_1'], ['tmax_2m4_1', 'tmp_2m_4_1'], ['tmax_2m4_1', 'tmp_2m_5_1'], ['tmax_2m4_1', 'tmp_sfc2_1'], ['tmax_2m4_1', 'tmp_sfc3_1'], ['tmax_2m4_1', 'tmp_sfc4_1'], ['tmax_2m4_1', 'tmp_sfc5_1'], ['tmax_2m4_1', 'ulwrf_s3_1'], ['tmax_2m4_1', 'ulwrf_s4_1'], ['tmax_2m4_1', 'ulwrf_s5_1'], ['tmax_2m5_1', 'tmin_2m4_1'], ['tmax_2m5_1', 'tmin_2m5_1'], ['tmax_2m5_1', 'tmp_2m_2_1'], ['tmax_2m5_1', 'tmp_2m_3_1'], ['tmax_2m5_1', 'tmp_2m_4_1'], ['tmax_2m5_1', 'tmp_2m_5_1'], ['tmax_2m5_1', 'tmp_sfc2_1'], ['tmax_2m5_1', 'tmp_sfc3_1'], ['tmax_2m5_1', 'tmp_sfc4_1'], ['tmax_2m5_1', 'tmp_sfc5_1'], ['tmax_2m5_1', 'ulwrf_s3_1'], ['tmax_2m5_1', 'ulwrf_s4_1'], ['tmax_2m5_1', 'ulwrf_s5_1'], ['tmin_2m1_1', 'tmin_2m2_1'], ['tmin_2m1_1', 'tmin_2m3_1'], ['tmin_2m1_1', 'tmp_2m_1_1'], ['tmin_2m1_1', 'tmp_2m_2_1'], ['tmin_2m1_1', 'tmp_2m_3_1'], ['tmin_2m1_1', 'tmp_sfc1_1'], ['tmin_2m1_1', 'tmp_sfc2_1'], ['tmin_2m1_1', 'ulwrf_s1_1'], ['tmin_2m1_1', 'ulwrf_s2_1'], ['tmin_2m1_1', 'ulwrf_s3_1'], ['tmin_2m2_1', 'tmin_2m3_1'], ['tmin_2m2_1', 'tmin_2m4_1'], ['tmin_2m2_1', 'tmp_2m_1_1'], ['tmin_2m2_1', 'tmp_2m_2_1'], ['tmin_2m2_1', 'tmp_2m_3_1'], ['tmin_2m2_1', 'tmp_sfc1_1'], ['tmin_2m2_1', 'tmp_sfc2_1'], ['tmin_2m2_1', 'ulwrf_s1_1'], ['tmin_2m2_1', 'ulwrf_s2_1'], ['tmin_2m2_1', 'ulwrf_s3_1'], ['tmin_2m3_1', 'tmin_2m4_1'], ['tmin_2m3_1', 'tmp_2m_1_1'], ['tmin_2m3_1', 'tmp_2m_2_1'], ['tmin_2m3_1', 'tmp_2m_3_1'], ['tmin_2m3_1', 'tmp_sfc1_1'], ['tmin_2m3_1', 'tmp_sfc2_1'], ['tmin_2m3_1', 'ulwrf_s1_1'], ['tmin_2m3_1', 'ulwrf_s2_1'], ['tmin_2m3_1', 'ulwrf_s3_1'], ['tmin_2m4_1', 'tmin_2m5_1'], ['tmin_2m4_1', 'tmp_2m_2_1'], ['tmin_2m4_1', 'tmp_2m_3_1'], ['tmin_2m4_1', 'tmp_2m_4_1'], ['tmin_2m4_1', 'tmp_2m_5_1'], ['tmin_2m4_1', 'tmp_sfc2_1'], ['tmin_2m4_1', 'tmp_sfc3_1'], ['tmin_2m4_1', 'tmp_sfc4_1'], ['tmin_2m4_1', 'tmp_sfc5_1'], ['tmin_2m4_1', 'ulwrf_s2_1'], ['tmin_2m4_1', 'ulwrf_s3_1'], ['tmin_2m4_1', 'ulwrf_s4_1'], ['tmin_2m4_1', 'ulwrf_s5_1'], ['tmin_2m5_1', 'tmp_2m_2_1'], ['tmin_2m5_1', 'tmp_2m_3_1'], ['tmin_2m5_1', 'tmp_2m_4_1'], ['tmin_2m5_1', 'tmp_2m_5_1'], ['tmin_2m5_1', 'tmp_sfc2_1'], ['tmin_2m5_1', 'tmp_sfc3_1'], ['tmin_2m5_1', 'tmp_sfc4_1'], ['tmin_2m5_1', 'tmp_sfc5_1'], ['tmin_2m5_1', 'ulwrf_s2_1'], ['tmin_2m5_1', 'ulwrf_s3_1'], ['tmin_2m5_1', 'ulwrf_s4_1'], ['tmin_2m5_1', 'ulwrf_s5_1'], ['tmp_2m_1_1', 'tmp_2m_2_1'], ['tmp_2m_1_1', 'tmp_2m_3_1'], ['tmp_2m_1_1', 'tmp_sfc1_1'], ['tmp_2m_1_1', 'tmp_sfc2_1'], ['tmp_2m_1_1', 'ulwrf_s1_1'], ['tmp_2m_1_1', 'ulwrf_s2_1'], ['tmp_2m_1_1', 'ulwrf_s3_1'], ['tmp_2m_2_1', 'tmp_2m_3_1'], ['tmp_2m_2_1', 'tmp_2m_4_1'], ['tmp_2m_2_1', 'tmp_2m_5_1'], ['tmp_2m_2_1', 'tmp_sfc1_1'], ['tmp_2m_2_1', 'tmp_sfc2_1'], ['tmp_2m_2_1', 'tmp_sfc3_1'], ['tmp_2m_2_1', 'tmp_sfc4_1'], ['tmp_2m_2_1', 'tmp_sfc5_1'], ['tmp_2m_2_1', 'ulwrf_s1_1'], ['tmp_2m_2_1', 'ulwrf_s2_1'], ['tmp_2m_2_1', 'ulwrf_s3_1'], ['tmp_2m_2_1', 'ulwrf_s4_1'], ['tmp_2m_2_1', 'ulwrf_s5_1'], ['tmp_2m_3_1', 'tmp_2m_4_1'], ['tmp_2m_3_1', 'tmp_2m_5_1'], ['tmp_2m_3_1', 'tmp_sfc2_1'], ['tmp_2m_3_1', 'tmp_sfc3_1'], ['tmp_2m_3_1', 'tmp_sfc4_1'], ['tmp_2m_3_1', 'tmp_sfc5_1'], ['tmp_2m_3_1', 'ulwrf_s2_1'], ['tmp_2m_3_1', 'ulwrf_s3_1'], ['tmp_2m_3_1', 'ulwrf_s4_1'], ['tmp_2m_3_1', 'ulwrf_s5_1'], ['tmp_2m_4_1', 'tmp_2m_5_1'], ['tmp_2m_4_1', 'tmp_sfc2_1'], ['tmp_2m_4_1', 'tmp_sfc3_1'], ['tmp_2m_4_1', 'tmp_sfc4_1'], ['tmp_2m_4_1', 'tmp_sfc5_1'], ['tmp_2m_4_1', 'ulwrf_s3_1'], ['tmp_2m_4_1', 'ulwrf_s4_1'], ['tmp_2m_4_1', 'ulwrf_s5_1'], ['tmp_2m_5_1', 'tmp_sfc2_1'], ['tmp_2m_5_1', 'tmp_sfc3_1'], ['tmp_2m_5_1', 'tmp_sfc4_1'], ['tmp_2m_5_1', 'tmp_sfc5_1'], ['tmp_2m_5_1', 'ulwrf_s2_1'], ['tmp_2m_5_1', 'ulwrf_s3_1'], ['tmp_2m_5_1', 'ulwrf_s4_1'], ['tmp_2m_5_1', 'ulwrf_s5_1'], ['tmp_sfc1_1', 'tmp_sfc2_1'], ['tmp_sfc1_1', 'ulwrf_s1_1'], ['tmp_sfc1_1', 'ulwrf_s2_1'], ['tmp_sfc1_1', 'ulwrf_s3_1'], ['tmp_sfc2_1', 'tmp_sfc3_1'], ['tmp_sfc2_1', 'tmp_sfc4_1'], ['tmp_sfc2_1', 'tmp_sfc5_1'], ['tmp_sfc2_1', 'ulwrf_s1_1'], ['tmp_sfc2_1', 'ulwrf_s2_1'], ['tmp_sfc2_1', 'ulwrf_s3_1'], ['tmp_sfc2_1', 'ulwrf_s4_1'], ['tmp_sfc2_1', 'ulwrf_s5_1'], ['tmp_sfc3_1', 'tmp_sfc4_1'], ['tmp_sfc3_1', 'tmp_sfc5_1'], ['tmp_sfc3_1', 'ulwrf_s3_1'], ['tmp_sfc3_1', 'ulwrf_s4_1'], ['tmp_sfc3_1', 'ulwrf_s5_1'], ['tmp_sfc4_1', 'tmp_sfc5_1'], ['tmp_sfc4_1', 'ulwrf_s3_1'], ['tmp_sfc4_1', 'ulwrf_s4_1'], ['tmp_sfc4_1', 'ulwrf_s5_1'], ['tmp_sfc5_1', 'ulwrf_s2_1'], ['tmp_sfc5_1', 'ulwrf_s3_1'], ['tmp_sfc5_1', 'ulwrf_s4_1'], ['tmp_sfc5_1', 'ulwrf_s5_1'], ['ulwrf_s1_1', 'ulwrf_s2_1'], ['ulwrf_s1_1', 'ulwrf_s3_1'], ['ulwrf_s2_1', 'ulwrf_s3_1'], ['ulwrf_s3_1', 'ulwrf_s4_1'], ['ulwrf_s3_1', 'ulwrf_s5_1'], ['ulwrf_s4_1', 'ulwrf_s5_1'], ['ulwrf_t2_1', 'ulwrf_t3_1'], ['ulwrf_t4_1', 'ulwrf_t5_1'], ['uswrf_s4_1', 'uswrf_s5_1']]\n"
          ]
        }
      ]
    },
    {
      "cell_type": "markdown",
      "source": [
        "En list tenemos todas las columnas altamente correlacionadas\n"
      ],
      "metadata": {
        "id": "hS_yHaYX7443"
      }
    },
    {
      "cell_type": "code",
      "source": [
        "#display(disp_df)\n",
        "import numpy as np\n",
        "from numpy.lib.function_base import disp\n",
        "import pandas as pd\n",
        "for i in disp_df:\n",
        "  for k in range(len(disp_df[i])):\n",
        "    if disp_df[i][k]==np.nan:\n",
        "      print(i)"
      ],
      "metadata": {
        "id": "odeG4E4HTrNl"
      },
      "execution_count": 43,
      "outputs": []
    },
    {
      "cell_type": "markdown",
      "source": [
        "####Normalizamos los datos\n"
      ],
      "metadata": {
        "id": "Xo6yQRiY4EE_"
      }
    },
    {
      "cell_type": "code",
      "source": [
        "from sklearn.preprocessing import RobustScaler\n",
        "pd.set_option('display.max_rows', None)\n",
        "#display(disp_df.var())\n",
        "X=disp_df.values\n",
        "robust = RobustScaler()\n",
        "scaled_values = robust.fit_transform(X)\n",
        "scaled_matrix = pd.DataFrame(scaled_values)\n",
        "#Creemos que necesitamos hacer la normalización más adelante y al splited data\n",
        "index = 0\n",
        "for i in disp_df:\n",
        "  print(i, scaled_matrix[index].std())\n",
        "  index += 1"
      ],
      "metadata": {
        "colab": {
          "base_uri": "https://localhost:8080/"
        },
        "id": "XVUElA1sUgpq",
        "outputId": "e63b4ef7-0b4f-497b-9123-d7e081bcd4d6"
      },
      "execution_count": 44,
      "outputs": [
        {
          "output_type": "stream",
          "name": "stdout",
          "text": [
            "apcp_sf1_1 35.34527131609055\n",
            "apcp_sf2_1 66.53638839905511\n",
            "apcp_sf3_1 53.13619594585077\n",
            "apcp_sf4_1 0.6902865527001909\n",
            "apcp_sf5_1 388.61446765566023\n",
            "dlwrf_s1_1 0.5690586015004552\n",
            "dlwrf_s2_1 0.5604280980745557\n",
            "dlwrf_s3_1 0.5599100960180365\n",
            "dlwrf_s4_1 0.5547244234757622\n",
            "dlwrf_s5_1 0.5511972663349181\n",
            "dswrf_s1_1 0.11261614127640085\n",
            "dswrf_s2_1 0.5244378685307185\n",
            "dswrf_s3_1 0.542719374275947\n",
            "dswrf_s4_1 0.5831412440294939\n",
            "dswrf_s5_1 0.5448927304212977\n",
            "pres_ms1_1 0.8013205554909132\n",
            "pres_ms2_1 0.8000760839594527\n",
            "pres_ms3_1 0.8045473701643405\n",
            "pres_ms4_1 0.8150731212020463\n",
            "pres_ms5_1 0.8075559976191413\n",
            "pwat_ea1_1 0.6082063140958146\n",
            "pwat_ea2_1 0.6072553678220067\n",
            "pwat_ea3_1 0.6039178374017136\n",
            "pwat_ea4_1 0.5997911606743963\n",
            "pwat_ea5_1 0.5956526216702805\n",
            "spfh_2m1_1 0.5815653017261748\n",
            "spfh_2m2_1 0.5690428651413918\n",
            "spfh_2m3_1 0.5708540110551112\n",
            "spfh_2m4_1 0.5792918254933966\n",
            "spfh_2m5_1 0.5772227939267285\n",
            "tcdc_ea1_1 3.7599959314426297\n",
            "tcdc_ea2_1 4.285342587457867\n",
            "tcdc_ea3_1 5.05894175114318\n",
            "tcdc_ea4_1 4.821137464945439\n",
            "tcdc_ea5_1 4.903920088224773\n",
            "tcolc_e1_1 3.7582154909742007\n",
            "tcolc_e2_1 4.351134971957474\n",
            "tcolc_e3_1 5.018297839228021\n",
            "tcolc_e4_1 4.772803484115125\n",
            "tcolc_e5_1 4.972573440882263\n",
            "tmax_2m1_1 0.6027942193532075\n",
            "tmax_2m2_1 0.5850690273645633\n",
            "tmax_2m3_1 0.6019119056032652\n",
            "tmax_2m4_1 0.6078854088921363\n",
            "tmax_2m5_1 0.6078615939160603\n",
            "tmin_2m1_1 0.5951943040636267\n",
            "tmin_2m2_1 0.5867972506008845\n",
            "tmin_2m3_1 0.5868100046066427\n",
            "tmin_2m4_1 0.6046806851033302\n",
            "tmin_2m5_1 0.5897375912185668\n",
            "tmp_2m_1_1 0.5934683254670114\n",
            "tmp_2m_2_1 0.5828202537168462\n",
            "tmp_2m_3_1 0.6044941370795561\n",
            "tmp_2m_4_1 0.6047926493636394\n",
            "tmp_2m_5_1 0.5822375824988294\n",
            "tmp_sfc1_1 0.5847349929743803\n",
            "tmp_sfc2_1 0.5635451696162402\n",
            "tmp_sfc3_1 0.5899302801392245\n",
            "tmp_sfc4_1 0.6037425416567633\n",
            "tmp_sfc5_1 0.570286717658704\n",
            "ulwrf_s1_1 0.5853670792796786\n",
            "ulwrf_s2_1 0.5559291423668461\n",
            "ulwrf_s3_1 0.5639857595010687\n",
            "ulwrf_s4_1 0.5883386329269192\n",
            "ulwrf_s5_1 0.5830169842584807\n",
            "ulwrf_t1_1 0.8002761894942011\n",
            "ulwrf_t2_1 0.8055532090176821\n",
            "ulwrf_t3_1 0.8059191299535909\n",
            "ulwrf_t4_1 0.8553741462522099\n",
            "ulwrf_t5_1 0.8224066678625738\n",
            "uswrf_s1_1 0.0\n",
            "uswrf_s2_1 0.5358266136997545\n",
            "uswrf_s3_1 0.5977944808989082\n",
            "uswrf_s4_1 0.7720242658384443\n",
            "uswrf_s5_1 0.6133313632614643\n",
            "salida 0.6244529673772358\n"
          ]
        }
      ]
    },
    {
      "cell_type": "code",
      "source": [
        "import seaborn\n",
        "\n",
        "seaborn.distplot(disp_df[\"apcp_sf5_1\"])\n",
        "#seaborn.distplot(scaled_matrix[4])\n",
        "#seaborn.boxplot(scaled_matrix[4])"
      ],
      "metadata": {
        "id": "xTXeGW5T9WD9",
        "outputId": "32e9d295-7cd6-461c-b9c2-baa51943e237",
        "colab": {
          "base_uri": "https://localhost:8080/",
          "height": 352
        }
      },
      "execution_count": 45,
      "outputs": [
        {
          "output_type": "stream",
          "name": "stderr",
          "text": [
            "/usr/local/lib/python3.9/dist-packages/seaborn/distributions.py:2619: FutureWarning: `distplot` is a deprecated function and will be removed in a future version. Please adapt your code to use either `displot` (a figure-level function with similar flexibility) or `histplot` (an axes-level function for histograms).\n",
            "  warnings.warn(msg, FutureWarning)\n"
          ]
        },
        {
          "output_type": "execute_result",
          "data": {
            "text/plain": [
              "<AxesSubplot:xlabel='apcp_sf5_1', ylabel='Density'>"
            ]
          },
          "metadata": {},
          "execution_count": 45
        },
        {
          "output_type": "display_data",
          "data": {
            "text/plain": [
              "<Figure size 432x288 with 1 Axes>"
            ],
            "image/png": "[encoded data removed]"
          },
          "metadata": {
            "needs_background": "light"
          }
        }
      ]
    },
    {
      "cell_type": "markdown",
      "source": [
        "###Comprobamos la correlación con la salida\n"
      ],
      "metadata": {
        "id": "hRY8EXfG8VHy"
      }
    },
    {
      "cell_type": "code",
      "source": [
        "lista_salida=[]\n",
        "for i in disp_df:\n",
        "    print(\"correlación salida con \", i, disp_df[i].corr(disp_df[\"salida\"]))\n",
        "    if disp_df[i].corr(disp_df[\"salida\"])>0.85 or disp_df[i].corr(disp_df[\"salida\"])<-0.85:\n",
        "      lista_salida.append(i)"
      ],
      "metadata": {
        "id": "5whCusbJYwuX",
        "colab": {
          "base_uri": "https://localhost:8080/"
        },
        "outputId": "1f6126ef-7c6a-4c55-dda0-882cab5711a7"
      },
      "execution_count": 46,
      "outputs": [
        {
          "output_type": "stream",
          "name": "stdout",
          "text": [
            "correlación salida con  apcp_sf1_1 -0.16213021417225146\n",
            "correlación salida con  apcp_sf2_1 -0.22693195305515088\n",
            "correlación salida con  apcp_sf3_1 -0.25482657684032034\n",
            "correlación salida con  apcp_sf4_1 -0.24638359175743108\n",
            "correlación salida con  apcp_sf5_1 -0.251709690802096\n",
            "correlación salida con  dlwrf_s1_1 0.36538671151738716\n",
            "correlación salida con  dlwrf_s2_1 0.3324084177854513\n",
            "correlación salida con  dlwrf_s3_1 0.37153024058007206\n",
            "correlación salida con  dlwrf_s4_1 0.4618079055814155\n",
            "correlación salida con  dlwrf_s5_1 0.47720762545798917\n",
            "correlación salida con  dswrf_s1_1 0.13360641876924823\n",
            "correlación salida con  dswrf_s2_1 0.8246218105528994\n",
            "correlación salida con  dswrf_s3_1 0.8802982839969848\n",
            "correlación salida con  dswrf_s4_1 0.875697345874555\n",
            "correlación salida con  dswrf_s5_1 0.8773294983106668\n",
            "correlación salida con  pres_ms1_1 -0.2854430805293465\n",
            "correlación salida con  pres_ms2_1 -0.2922649346561904\n",
            "correlación salida con  pres_ms3_1 -0.302003504480284\n",
            "correlación salida con  pres_ms4_1 -0.29854019585317537\n",
            "correlación salida con  pres_ms5_1 -0.34895128753502325\n",
            "correlación salida con  pwat_ea1_1 0.2649960273661967\n",
            "correlación salida con  pwat_ea2_1 0.2538607203733222\n",
            "correlación salida con  pwat_ea3_1 0.2626550619398881\n",
            "correlación salida con  pwat_ea4_1 0.2845613998768444\n",
            "correlación salida con  pwat_ea5_1 0.30585805743804806\n",
            "correlación salida con  spfh_2m1_1 0.36753993696298637\n",
            "correlación salida con  spfh_2m2_1 0.4111992846679255\n",
            "correlación salida con  spfh_2m3_1 0.3975133345518356\n",
            "correlación salida con  spfh_2m4_1 0.35979687610559813\n",
            "correlación salida con  spfh_2m5_1 0.38328316020188824\n",
            "correlación salida con  tcdc_ea1_1 -0.355092422234161\n",
            "correlación salida con  tcdc_ea2_1 -0.4131303187362299\n",
            "correlación salida con  tcdc_ea3_1 -0.4103821138697305\n",
            "correlación salida con  tcdc_ea4_1 -0.40498095356838076\n",
            "correlación salida con  tcdc_ea5_1 -0.33300057489599627\n",
            "correlación salida con  tcolc_e1_1 -0.35475848121990766\n",
            "correlación salida con  tcolc_e2_1 -0.412855853449115\n",
            "correlación salida con  tcolc_e3_1 -0.41002071486001557\n",
            "correlación salida con  tcolc_e4_1 -0.40441312141815783\n",
            "correlación salida con  tcolc_e5_1 -0.33228781535090485\n",
            "correlación salida con  tmax_2m1_1 0.5834702449087105\n",
            "correlación salida con  tmax_2m2_1 0.640528433590476\n",
            "correlación salida con  tmax_2m3_1 0.6840779002936103\n",
            "correlación salida con  tmax_2m4_1 0.6993653289164493\n",
            "correlación salida con  tmax_2m5_1 0.6994089661710121\n",
            "correlación salida con  tmin_2m1_1 0.5589565132701781\n",
            "correlación salida con  tmin_2m2_1 0.5640547389045715\n",
            "correlación salida con  tmin_2m3_1 0.5654278982705099\n",
            "correlación salida con  tmin_2m4_1 0.6909607413292633\n",
            "correlación salida con  tmin_2m5_1 0.7072265162486207\n",
            "correlación salida con  tmp_2m_1_1 0.5560405514918622\n",
            "correlación salida con  tmp_2m_2_1 0.6433943965446033\n",
            "correlación salida con  tmp_2m_3_1 0.6863734776458205\n",
            "correlación salida con  tmp_2m_4_1 0.7040932033853942\n",
            "correlación salida con  tmp_2m_5_1 0.7129421641301222\n",
            "correlación salida con  tmp_sfc1_1 0.5391344008767125\n",
            "correlación salida con  tmp_sfc2_1 0.6762263064641242\n",
            "correlación salida con  tmp_sfc3_1 0.7376008421430015\n",
            "correlación salida con  tmp_sfc4_1 0.7477494663127511\n",
            "correlación salida con  tmp_sfc5_1 0.7124430486393385\n",
            "correlación salida con  ulwrf_s1_1 0.5625573385917527\n",
            "correlación salida con  ulwrf_s2_1 0.6192260026976277\n",
            "correlación salida con  ulwrf_s3_1 0.6787705637243145\n",
            "correlación salida con  ulwrf_s4_1 0.7467637193799265\n",
            "correlación salida con  ulwrf_s5_1 0.7455099018298113\n",
            "correlación salida con  ulwrf_t1_1 0.5339048961042566\n",
            "correlación salida con  ulwrf_t2_1 0.622970574871868\n",
            "correlación salida con  ulwrf_t3_1 0.671692731509569\n",
            "correlación salida con  ulwrf_t4_1 0.6917501946101022\n",
            "correlación salida con  ulwrf_t5_1 0.6952442614419652\n",
            "correlación salida con  uswrf_s1_1 nan\n",
            "correlación salida con  uswrf_s2_1 0.8433543637245977\n",
            "correlación salida con  uswrf_s3_1 0.8642002022026374\n",
            "correlación salida con  uswrf_s4_1 0.7452035228276859\n",
            "correlación salida con  uswrf_s5_1 0.8312765666316183\n",
            "correlación salida con  salida 1.0\n"
          ]
        }
      ]
    },
    {
      "cell_type": "markdown",
      "source": [
        "## Hipótesis\n",
        "\n",
        "\n",
        "\n",
        "Podemos ver que la columna \"uswrf_s1_1\" es inútil.\n",
        "También tenemos en la variable \"lista\" el array que incluye las combinaciones de variables altamente relacionadas unas con otras. Por último en lista_salida tenemos las columnas altamente correlacionadas con la salida.\n",
        "Hemos decidido por lo cual reducir el dataset quitando la columna inútil, también vamos a minimizar el número de variables.\n",
        "No vamos a borrar las variables con baja correlación con la salida ya que dicha correlación es sólo lineal así que al eliminarla podriamos quitar variables altamente correlacionadas no linearmente."
      ],
      "metadata": {
        "id": "EX-tN8az8mbV"
      }
    },
    {
      "cell_type": "code",
      "source": [
        "disp_df = disp_df.drop(columns=['uswrf_s1_1'])\n",
        "for i in list:\n",
        "  disp_df = disp_df.drop(columns=[i[0]])\n"
      ],
      "metadata": {
        "colab": {
          "base_uri": "https://localhost:8080/",
          "height": 346
        },
        "id": "CetuxmLEBxvb",
        "outputId": "3c2fdb8b-534a-4c77-f5cd-7cd922020ef9"
      },
      "execution_count": 47,
      "outputs": [
        {
          "output_type": "error",
          "ename": "KeyError",
          "evalue": "ignored",
          "traceback": [
            "\u001b[0;31m---------------------------------------------------------------------------\u001b[0m",
            "\u001b[0;31mKeyError\u001b[0m                                  Traceback (most recent call last)",
            "\u001b[0;32m<ipython-input-47-b876aef28df0>\u001b[0m in \u001b[0;36m<module>\u001b[0;34m\u001b[0m\n\u001b[1;32m      1\u001b[0m \u001b[0mdisp_df\u001b[0m \u001b[0;34m=\u001b[0m \u001b[0mdisp_df\u001b[0m\u001b[0;34m.\u001b[0m\u001b[0mdrop\u001b[0m\u001b[0;34m(\u001b[0m\u001b[0mcolumns\u001b[0m\u001b[0;34m=\u001b[0m\u001b[0;34m[\u001b[0m\u001b[0;34m'uswrf_s1_1'\u001b[0m\u001b[0;34m]\u001b[0m\u001b[0;34m)\u001b[0m\u001b[0;34m\u001b[0m\u001b[0;34m\u001b[0m\u001b[0m\n\u001b[1;32m      2\u001b[0m \u001b[0;32mfor\u001b[0m \u001b[0mi\u001b[0m \u001b[0;32min\u001b[0m \u001b[0mlist\u001b[0m\u001b[0;34m:\u001b[0m\u001b[0;34m\u001b[0m\u001b[0;34m\u001b[0m\u001b[0m\n\u001b[0;32m----> 3\u001b[0;31m   \u001b[0mdisp_df\u001b[0m \u001b[0;34m=\u001b[0m \u001b[0mdisp_df\u001b[0m\u001b[0;34m.\u001b[0m\u001b[0mdrop\u001b[0m\u001b[0;34m(\u001b[0m\u001b[0mcolumns\u001b[0m\u001b[0;34m=\u001b[0m\u001b[0;34m[\u001b[0m\u001b[0mi\u001b[0m\u001b[0;34m[\u001b[0m\u001b[0;36m0\u001b[0m\u001b[0;34m]\u001b[0m\u001b[0;34m]\u001b[0m\u001b[0;34m)\u001b[0m\u001b[0;34m\u001b[0m\u001b[0;34m\u001b[0m\u001b[0m\n\u001b[0m",
            "\u001b[0;32m/usr/local/lib/python3.9/dist-packages/pandas/util/_decorators.py\u001b[0m in \u001b[0;36mwrapper\u001b[0;34m(*args, **kwargs)\u001b[0m\n\u001b[1;32m    309\u001b[0m                     \u001b[0mstacklevel\u001b[0m\u001b[0;34m=\u001b[0m\u001b[0mstacklevel\u001b[0m\u001b[0;34m,\u001b[0m\u001b[0;34m\u001b[0m\u001b[0;34m\u001b[0m\u001b[0m\n\u001b[1;32m    310\u001b[0m                 )\n\u001b[0;32m--> 311\u001b[0;31m             \u001b[0;32mreturn\u001b[0m \u001b[0mfunc\u001b[0m\u001b[0;34m(\u001b[0m\u001b[0;34m*\u001b[0m\u001b[0margs\u001b[0m\u001b[0;34m,\u001b[0m \u001b[0;34m**\u001b[0m\u001b[0mkwargs\u001b[0m\u001b[0;34m)\u001b[0m\u001b[0;34m\u001b[0m\u001b[0;34m\u001b[0m\u001b[0m\n\u001b[0m\u001b[1;32m    312\u001b[0m \u001b[0;34m\u001b[0m\u001b[0m\n\u001b[1;32m    313\u001b[0m         \u001b[0;32mreturn\u001b[0m \u001b[0mwrapper\u001b[0m\u001b[0;34m\u001b[0m\u001b[0;34m\u001b[0m\u001b[0m\n",
            "\u001b[0;32m/usr/local/lib/python3.9/dist-packages/pandas/core/frame.py\u001b[0m in \u001b[0;36mdrop\u001b[0;34m(self, labels, axis, index, columns, level, inplace, errors)\u001b[0m\n\u001b[1;32m   4955\u001b[0m                 \u001b[0mweight\u001b[0m  \u001b[0;36m1.0\u001b[0m     \u001b[0;36m0.8\u001b[0m\u001b[0;34m\u001b[0m\u001b[0;34m\u001b[0m\u001b[0m\n\u001b[1;32m   4956\u001b[0m         \"\"\"\n\u001b[0;32m-> 4957\u001b[0;31m         return super().drop(\n\u001b[0m\u001b[1;32m   4958\u001b[0m             \u001b[0mlabels\u001b[0m\u001b[0;34m=\u001b[0m\u001b[0mlabels\u001b[0m\u001b[0;34m,\u001b[0m\u001b[0;34m\u001b[0m\u001b[0;34m\u001b[0m\u001b[0m\n\u001b[1;32m   4959\u001b[0m             \u001b[0maxis\u001b[0m\u001b[0;34m=\u001b[0m\u001b[0maxis\u001b[0m\u001b[0;34m,\u001b[0m\u001b[0;34m\u001b[0m\u001b[0;34m\u001b[0m\u001b[0m\n",
            "\u001b[0;32m/usr/local/lib/python3.9/dist-packages/pandas/core/generic.py\u001b[0m in \u001b[0;36mdrop\u001b[0;34m(self, labels, axis, index, columns, level, inplace, errors)\u001b[0m\n\u001b[1;32m   4265\u001b[0m         \u001b[0;32mfor\u001b[0m \u001b[0maxis\u001b[0m\u001b[0;34m,\u001b[0m \u001b[0mlabels\u001b[0m \u001b[0;32min\u001b[0m \u001b[0maxes\u001b[0m\u001b[0;34m.\u001b[0m\u001b[0mitems\u001b[0m\u001b[0;34m(\u001b[0m\u001b[0;34m)\u001b[0m\u001b[0;34m:\u001b[0m\u001b[0;34m\u001b[0m\u001b[0;34m\u001b[0m\u001b[0m\n\u001b[1;32m   4266\u001b[0m             \u001b[0;32mif\u001b[0m \u001b[0mlabels\u001b[0m \u001b[0;32mis\u001b[0m \u001b[0;32mnot\u001b[0m \u001b[0;32mNone\u001b[0m\u001b[0;34m:\u001b[0m\u001b[0;34m\u001b[0m\u001b[0;34m\u001b[0m\u001b[0m\n\u001b[0;32m-> 4267\u001b[0;31m                 \u001b[0mobj\u001b[0m \u001b[0;34m=\u001b[0m \u001b[0mobj\u001b[0m\u001b[0;34m.\u001b[0m\u001b[0m_drop_axis\u001b[0m\u001b[0;34m(\u001b[0m\u001b[0mlabels\u001b[0m\u001b[0;34m,\u001b[0m \u001b[0maxis\u001b[0m\u001b[0;34m,\u001b[0m \u001b[0mlevel\u001b[0m\u001b[0;34m=\u001b[0m\u001b[0mlevel\u001b[0m\u001b[0;34m,\u001b[0m \u001b[0merrors\u001b[0m\u001b[0;34m=\u001b[0m\u001b[0merrors\u001b[0m\u001b[0;34m)\u001b[0m\u001b[0;34m\u001b[0m\u001b[0;34m\u001b[0m\u001b[0m\n\u001b[0m\u001b[1;32m   4268\u001b[0m \u001b[0;34m\u001b[0m\u001b[0m\n\u001b[1;32m   4269\u001b[0m         \u001b[0;32mif\u001b[0m \u001b[0minplace\u001b[0m\u001b[0;34m:\u001b[0m\u001b[0;34m\u001b[0m\u001b[0;34m\u001b[0m\u001b[0m\n",
            "\u001b[0;32m/usr/local/lib/python3.9/dist-packages/pandas/core/generic.py\u001b[0m in \u001b[0;36m_drop_axis\u001b[0;34m(self, labels, axis, level, errors, consolidate, only_slice)\u001b[0m\n\u001b[1;32m   4309\u001b[0m                 \u001b[0mnew_axis\u001b[0m \u001b[0;34m=\u001b[0m \u001b[0maxis\u001b[0m\u001b[0;34m.\u001b[0m\u001b[0mdrop\u001b[0m\u001b[0;34m(\u001b[0m\u001b[0mlabels\u001b[0m\u001b[0;34m,\u001b[0m \u001b[0mlevel\u001b[0m\u001b[0;34m=\u001b[0m\u001b[0mlevel\u001b[0m\u001b[0;34m,\u001b[0m \u001b[0merrors\u001b[0m\u001b[0;34m=\u001b[0m\u001b[0merrors\u001b[0m\u001b[0;34m)\u001b[0m\u001b[0;34m\u001b[0m\u001b[0;34m\u001b[0m\u001b[0m\n\u001b[1;32m   4310\u001b[0m             \u001b[0;32melse\u001b[0m\u001b[0;34m:\u001b[0m\u001b[0;34m\u001b[0m\u001b[0;34m\u001b[0m\u001b[0m\n\u001b[0;32m-> 4311\u001b[0;31m                 \u001b[0mnew_axis\u001b[0m \u001b[0;34m=\u001b[0m \u001b[0maxis\u001b[0m\u001b[0;34m.\u001b[0m\u001b[0mdrop\u001b[0m\u001b[0;34m(\u001b[0m\u001b[0mlabels\u001b[0m\u001b[0;34m,\u001b[0m \u001b[0merrors\u001b[0m\u001b[0;34m=\u001b[0m\u001b[0merrors\u001b[0m\u001b[0;34m)\u001b[0m\u001b[0;34m\u001b[0m\u001b[0;34m\u001b[0m\u001b[0m\n\u001b[0m\u001b[1;32m   4312\u001b[0m             \u001b[0mindexer\u001b[0m \u001b[0;34m=\u001b[0m \u001b[0maxis\u001b[0m\u001b[0;34m.\u001b[0m\u001b[0mget_indexer\u001b[0m\u001b[0;34m(\u001b[0m\u001b[0mnew_axis\u001b[0m\u001b[0;34m)\u001b[0m\u001b[0;34m\u001b[0m\u001b[0;34m\u001b[0m\u001b[0m\n\u001b[1;32m   4313\u001b[0m \u001b[0;34m\u001b[0m\u001b[0m\n",
            "\u001b[0;32m/usr/local/lib/python3.9/dist-packages/pandas/core/indexes/base.py\u001b[0m in \u001b[0;36mdrop\u001b[0;34m(self, labels, errors)\u001b[0m\n\u001b[1;32m   6659\u001b[0m         \u001b[0;32mif\u001b[0m \u001b[0mmask\u001b[0m\u001b[0;34m.\u001b[0m\u001b[0many\u001b[0m\u001b[0;34m(\u001b[0m\u001b[0;34m)\u001b[0m\u001b[0;34m:\u001b[0m\u001b[0;34m\u001b[0m\u001b[0;34m\u001b[0m\u001b[0m\n\u001b[1;32m   6660\u001b[0m             \u001b[0;32mif\u001b[0m \u001b[0merrors\u001b[0m \u001b[0;34m!=\u001b[0m \u001b[0;34m\"ignore\"\u001b[0m\u001b[0;34m:\u001b[0m\u001b[0;34m\u001b[0m\u001b[0;34m\u001b[0m\u001b[0m\n\u001b[0;32m-> 6661\u001b[0;31m                 \u001b[0;32mraise\u001b[0m \u001b[0mKeyError\u001b[0m\u001b[0;34m(\u001b[0m\u001b[0;34mf\"{list(labels[mask])} not found in axis\"\u001b[0m\u001b[0;34m)\u001b[0m\u001b[0;34m\u001b[0m\u001b[0;34m\u001b[0m\u001b[0m\n\u001b[0m\u001b[1;32m   6662\u001b[0m             \u001b[0mindexer\u001b[0m \u001b[0;34m=\u001b[0m \u001b[0mindexer\u001b[0m\u001b[0;34m[\u001b[0m\u001b[0;34m~\u001b[0m\u001b[0mmask\u001b[0m\u001b[0;34m]\u001b[0m\u001b[0;34m\u001b[0m\u001b[0;34m\u001b[0m\u001b[0m\n\u001b[1;32m   6663\u001b[0m         \u001b[0;32mreturn\u001b[0m \u001b[0mself\u001b[0m\u001b[0;34m.\u001b[0m\u001b[0mdelete\u001b[0m\u001b[0;34m(\u001b[0m\u001b[0mindexer\u001b[0m\u001b[0;34m)\u001b[0m\u001b[0;34m\u001b[0m\u001b[0;34m\u001b[0m\u001b[0m\n",
            "\u001b[0;31mKeyError\u001b[0m: \"['dlwrf_s1_1'] not found in axis\""
          ]
        }
      ]
    },
    {
      "cell_type": "markdown",
      "source": [
        "# Métodos básicos\n"
      ],
      "metadata": {
        "id": "9XwgqVoL5_uy"
      }
    }
  ]
}