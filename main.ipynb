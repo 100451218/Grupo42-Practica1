{
  "nbformat": 4,
  "nbformat_minor": 0,
  "metadata": {
    "colab": {
      "provenance": [],
      "include_colab_link": true
    },
    "kernelspec": {
      "name": "python3",
      "display_name": "Python 3"
    },
    "language_info": {
      "name": "python"
    }
  },
  "cells": [
    {
      "cell_type": "markdown",
      "metadata": {
        "id": "view-in-github",
        "colab_type": "text"
      },
      "source": [
        "<a href=\"https://colab.research.google.com/github/100451218/Grupo42-Practica1/blob/main/main.ipynb\" target=\"_parent\"><img src=\"https://colab.research.google.com/assets/colab-badge.svg\" alt=\"Open In Colab\"/></a>"
      ]
    },
    {
      "cell_type": "markdown",
      "source": [
        "100451218- Sergi Vila\n",
        "100451058-Daniel Obreo"
      ],
      "metadata": {
        "id": "6X8Z1eajr-0a"
      }
    },
    {
      "cell_type": "markdown",
      "source": [
        "Cosas que hemos visto Análisis Exploratorio de Datos\n",
        "1. Qué valores son siempre 0\n",
        "2. Qué valores son constantes\n",
        "3. Qué correlación hay entre columnas"
      ],
      "metadata": {
        "id": "eYkeVq-6WT0b"
      }
    },
    {
      "cell_type": "code",
      "source": [
        "!pip install pd\n",
        "!pip install seaborn"
      ],
      "metadata": {
        "colab": {
          "base_uri": "https://localhost:8080/"
        },
        "id": "7eRQwNbzKpRW",
        "outputId": "c80aef5f-8b4a-4b5e-9759-8602b7e61563"
      },
      "execution_count": 2,
      "outputs": [
        {
          "output_type": "stream",
          "name": "stdout",
          "text": [
            "Looking in indexes: https://pypi.org/simple, https://us-python.pkg.dev/colab-wheels/public/simple/\n",
            "Requirement already satisfied: pd in /usr/local/lib/python3.8/dist-packages (0.0.4)\n",
            "Looking in indexes: https://pypi.org/simple, https://us-python.pkg.dev/colab-wheels/public/simple/\n",
            "Requirement already satisfied: seaborn in /usr/local/lib/python3.8/dist-packages (0.11.2)\n",
            "Requirement already satisfied: scipy>=1.0 in /usr/local/lib/python3.8/dist-packages (from seaborn) (1.10.1)\n",
            "Requirement already satisfied: numpy>=1.15 in /usr/local/lib/python3.8/dist-packages (from seaborn) (1.22.4)\n",
            "Requirement already satisfied: matplotlib>=2.2 in /usr/local/lib/python3.8/dist-packages (from seaborn) (3.5.3)\n",
            "Requirement already satisfied: pandas>=0.23 in /usr/local/lib/python3.8/dist-packages (from seaborn) (1.3.5)\n",
            "Requirement already satisfied: packaging>=20.0 in /usr/local/lib/python3.8/dist-packages (from matplotlib>=2.2->seaborn) (23.0)\n",
            "Requirement already satisfied: cycler>=0.10 in /usr/local/lib/python3.8/dist-packages (from matplotlib>=2.2->seaborn) (0.11.0)\n",
            "Requirement already satisfied: fonttools>=4.22.0 in /usr/local/lib/python3.8/dist-packages (from matplotlib>=2.2->seaborn) (4.38.0)\n",
            "Requirement already satisfied: pillow>=6.2.0 in /usr/local/lib/python3.8/dist-packages (from matplotlib>=2.2->seaborn) (8.4.0)\n",
            "Requirement already satisfied: kiwisolver>=1.0.1 in /usr/local/lib/python3.8/dist-packages (from matplotlib>=2.2->seaborn) (1.4.4)\n",
            "Requirement already satisfied: pyparsing>=2.2.1 in /usr/local/lib/python3.8/dist-packages (from matplotlib>=2.2->seaborn) (3.0.9)\n",
            "Requirement already satisfied: python-dateutil>=2.7 in /usr/local/lib/python3.8/dist-packages (from matplotlib>=2.2->seaborn) (2.8.2)\n",
            "Requirement already satisfied: pytz>=2017.3 in /usr/local/lib/python3.8/dist-packages (from pandas>=0.23->seaborn) (2022.7.1)\n",
            "Requirement already satisfied: six>=1.5 in /usr/local/lib/python3.8/dist-packages (from python-dateutil>=2.7->matplotlib>=2.2->seaborn) (1.15.0)\n"
          ]
        }
      ]
    },
    {
      "cell_type": "code",
      "source": [
        "print(\"a\"==\"a\")"
      ],
      "metadata": {
        "colab": {
          "base_uri": "https://localhost:8080/"
        },
        "id": "ylKa7nApTSW0",
        "outputId": "0dc194e2-bdba-4883-f8c1-599ed34616f3"
      },
      "execution_count": 3,
      "outputs": [
        {
          "output_type": "stream",
          "name": "stdout",
          "text": [
            "True\n"
          ]
        }
      ]
    },
    {
      "cell_type": "code",
      "execution_count": 4,
      "metadata": {
        "id": "0gvfEN5UrgTS",
        "outputId": "b8f98bdd-0dae-4664-9f0a-5908b236cb97",
        "colab": {
          "base_uri": "https://localhost:8080/"
        }
      },
      "outputs": [
        {
          "output_type": "stream",
          "name": "stdout",
          "text": [
            "uswrf_s1_1\n"
          ]
        }
      ],
      "source": [
        "import pandas as pd\n",
        "#Importamos los dos conjuntos de datos.\n",
        "disp_df = pd.read_csv(\"disp_st42ns1.txt.bz2\",\n",
        " compression=\"bz2\", \n",
        " index_col=0)\n",
        "comp_df = pd.read_csv(\"comp_st42ns1.txt.bz2\", \n",
        " compression=\"bz2\", \n",
        " index_col=0)\n",
        "#print(disp_df['apcp_sf1_1'][0])\n",
        "pd.set_option('display.max_columns', None)\n",
        "#display(disp_df)\n",
        "for i in disp_df:\n",
        "  if disp_df[i].sum()==0:\n",
        "    print(i)\n",
        "  \"\"\"Con esta linea podemos ver las filas con todos los valores en 0, ya que \n",
        "  vemos después que no hay números negativos\"\"\"\n",
        "  # print(i ,\": \",disp_df[i].value_counts())\n",
        "  for k in range(len(disp_df[i])):\n",
        "    if disp_df[i][k]<0:\n",
        "      \"\"\"Si hubiera un número negativo se imprimiría hay\"\"\"\n",
        "      print(\"Hay\")"
      ]
    },
    {
      "cell_type": "markdown",
      "source": [
        "Hemos podido observar que la columna uswrf_s1_1 es inútil"
      ],
      "metadata": {
        "id": "qROtYg7BPT1_"
      }
    },
    {
      "cell_type": "code",
      "source": [
        "#También vamos a comprobar si el valor es constante\n",
        "\"\"\"print(disp_df[\"uswrf_s1_1\"].nunique())\"\"\"\n",
        "#Cómo hemos dicho antes, sólo hay un número único\n",
        "for i in disp_df:\n",
        "  if disp_df[i].nunique()==1:\n",
        "    print(i)"
      ],
      "metadata": {
        "colab": {
          "base_uri": "https://localhost:8080/"
        },
        "id": "DoQ1g-9jPZRJ",
        "outputId": "947c6254-6ee9-4d2e-dbdc-075e39b1917b"
      },
      "execution_count": 5,
      "outputs": [
        {
          "output_type": "stream",
          "name": "stdout",
          "text": [
            "uswrf_s1_1\n"
          ]
        }
      ]
    },
    {
      "cell_type": "code",
      "source": [
        "from IPython.core.display import display_pdf\n",
        "list=[]\n",
        "for i in disp_df:\n",
        "  for k in disp_df:\n",
        "    \"\"\"print(disp_df[i].corr(disp_df[k]))\"\"\"\n",
        "    #Esto nos sirve para saber que 1 es el máximo\n",
        "    if i!=k and not -0.999<=disp_df[i].corr(disp_df[k])<=0.999 and i!=\"uswrf_s1_1\" and k!=\"uswrf_s1_1\":\n",
        "      if [i,k] not in list and [k,i] not in list:\n",
        "        list.append([i,k])\n",
        "        print(i,\", \",k,\" : \",disp_df[i].corr(disp_df[k]))\n",
        "      \n",
        "#print(list)"
      ],
      "metadata": {
        "colab": {
          "base_uri": "https://localhost:8080/"
        },
        "id": "vq1zcsNlQvS9",
        "outputId": "f511dc61-bcbc-4538-84d2-8b846af259a3"
      },
      "execution_count": 6,
      "outputs": [
        {
          "output_type": "stream",
          "name": "stdout",
          "text": [
            "tcdc_ea1_1 ,  tcolc_e1_1  :  0.999977884315217\n",
            "tcdc_ea2_1 ,  tcolc_e2_1  :  0.9999803755794225\n",
            "tcdc_ea3_1 ,  tcolc_e3_1  :  0.9999795855646263\n",
            "tcdc_ea4_1 ,  tcolc_e4_1  :  0.999975898110073\n",
            "tcdc_ea5_1 ,  tcolc_e5_1  :  0.9999715058573335\n",
            "tmax_2m2_1 ,  tmp_2m_2_1  :  0.9992834032396157\n",
            "tmax_2m3_1 ,  tmp_2m_3_1  :  0.9994790214287826\n",
            "tmax_2m4_1 ,  tmax_2m5_1  :  0.9997763091522931\n",
            "tmax_2m4_1 ,  tmp_2m_4_1  :  0.9993337962089638\n",
            "tmax_2m5_1 ,  tmp_2m_4_1  :  0.9992067250706518\n",
            "tmin_2m2_1 ,  tmin_2m3_1  :  0.9999115519778132\n",
            "tmin_2m4_1 ,  tmp_2m_3_1  :  0.9993742471589702\n"
          ]
        }
      ]
    },
    {
      "cell_type": "code",
      "source": [
        "#display(disp_df)\n",
        "import numpy as np\n",
        "from numpy.lib.function_base import disp\n",
        "import pandas as pd\n",
        "for i in disp_df:\n",
        "  for k in range(len(disp_df[i])):\n",
        "    if disp_df[i][k]==np.nan:\n",
        "      print(i)"
      ],
      "metadata": {
        "id": "odeG4E4HTrNl"
      },
      "execution_count": 7,
      "outputs": []
    },
    {
      "cell_type": "markdown",
      "source": [
        "Normalización de los datos y comprobación de la desviación estandar"
      ],
      "metadata": {
        "id": "Xo6yQRiY4EE_"
      }
    },
    {
      "cell_type": "code",
      "source": [
        "from sklearn.preprocessing import MinMaxScaler\n",
        "pd.set_option('display.max_rows', None)\n",
        "#display(disp_df.var())\n",
        "X=disp_df.values\n",
        "robust = MinMaxScaler()\n",
        "scaled_values = robust.fit_transform(X)\n",
        "scaled_matrix = pd.DataFrame(scaled_values)\n",
        "#Creemos que necesitamos hacer la normalización más adelante y al splited data\n",
        "index = 0\n",
        "for i in disp_df:\n",
        "  print(i, scaled_matrix[index].std())\n",
        "  index += 1"
      ],
      "metadata": {
        "colab": {
          "base_uri": "https://localhost:8080/"
        },
        "id": "XVUElA1sUgpq",
        "outputId": "c05cc933-1b8d-41a5-d291-96315c79ba93"
      },
      "execution_count": 24,
      "outputs": [
        {
          "output_type": "stream",
          "name": "stdout",
          "text": [
            "apcp_sf1_1 0.03849335900900945\n",
            "apcp_sf2_1 0.0455063755714363\n",
            "apcp_sf3_1 0.04556684227820323\n",
            "apcp_sf4_1 0.05217226866965521\n",
            "apcp_sf5_1 0.048963928094974636\n",
            "dlwrf_s1_1 0.21564806100347245\n",
            "dlwrf_s2_1 0.21928883514369507\n",
            "dlwrf_s3_1 0.22756173885609735\n",
            "dlwrf_s4_1 0.22013261165139184\n",
            "dlwrf_s5_1 0.21926643965591058\n",
            "dswrf_s1_1 0.11261614127640085\n",
            "dswrf_s2_1 0.2959133879947943\n",
            "dswrf_s3_1 0.24892135767504006\n",
            "dswrf_s4_1 0.21561524989325842\n",
            "dswrf_s5_1 0.23240328529175125\n",
            "pres_ms1_1 0.13962665761835225\n",
            "pres_ms2_1 0.12978562324069584\n",
            "pres_ms3_1 0.13392940273853632\n",
            "pres_ms4_1 0.131506309429258\n",
            "pres_ms5_1 0.1405622803157261\n",
            "pwat_ea1_1 0.21587554459338743\n",
            "pwat_ea2_1 0.2126836461600035\n",
            "pwat_ea3_1 0.21025837774758513\n",
            "pwat_ea4_1 0.2129325030564121\n",
            "pwat_ea5_1 0.219935594964304\n",
            "spfh_2m1_1 0.22929458446852652\n",
            "spfh_2m2_1 0.24899200869150745\n",
            "spfh_2m3_1 0.23924803004515452\n",
            "spfh_2m4_1 0.22587268349850037\n",
            "spfh_2m5_1 0.22702717368060418\n",
            "tcdc_ea1_1 0.07808921835925488\n",
            "tcdc_ea2_1 0.06641081772711509\n",
            "tcdc_ea3_1 0.05606011136295675\n",
            "tcdc_ea4_1 0.0858802132654095\n",
            "tcdc_ea5_1 0.051783738381132725\n",
            "tcolc_e1_1 0.07802612919244921\n",
            "tcolc_e2_1 0.06630424852484598\n",
            "tcolc_e3_1 0.055991999505395976\n",
            "tcolc_e4_1 0.08585424379132191\n",
            "tcolc_e5_1 0.05178139859649961\n",
            "tmax_2m1_1 0.1888462291980428\n",
            "tmax_2m2_1 0.19890605421747182\n",
            "tmax_2m3_1 0.193113479252591\n",
            "tmax_2m4_1 0.1978121576102509\n",
            "tmax_2m5_1 0.19736615508471478\n",
            "tmin_2m1_1 0.178261657398485\n",
            "tmin_2m2_1 0.19311962209278472\n",
            "tmin_2m3_1 0.1932513540501416\n",
            "tmin_2m4_1 0.19436381213945184\n",
            "tmin_2m5_1 0.1953236245908974\n",
            "tmp_2m_1_1 0.1883158653897797\n",
            "tmp_2m_2_1 0.20000257315424144\n",
            "tmp_2m_3_1 0.19376194349863687\n",
            "tmp_2m_4_1 0.19861634099814024\n",
            "tmp_2m_5_1 0.19331793993621604\n",
            "tmp_sfc1_1 0.1854045088863821\n",
            "tmp_sfc2_1 0.2131745606245236\n",
            "tmp_sfc3_1 0.18838353640908212\n",
            "tmp_sfc4_1 0.19602910084681677\n",
            "tmp_sfc5_1 0.19538875945882075\n",
            "ulwrf_s1_1 0.18980450962799708\n",
            "ulwrf_s2_1 0.2214526212664872\n",
            "ulwrf_s3_1 0.2150128088875622\n",
            "ulwrf_s4_1 0.19812235093085517\n",
            "ulwrf_s5_1 0.20841719345728824\n",
            "ulwrf_t1_1 0.16021163791615967\n",
            "ulwrf_t2_1 0.17333169832168613\n",
            "ulwrf_t3_1 0.17810641426511498\n",
            "ulwrf_t4_1 0.17700761180940672\n",
            "ulwrf_t5_1 0.17576252854800548\n",
            "uswrf_s1_1 0.0\n",
            "uswrf_s2_1 0.2862652435259874\n",
            "uswrf_s3_1 0.1946840263463881\n",
            "uswrf_s4_1 0.10036315455899829\n",
            "uswrf_s5_1 0.13590981558442872\n",
            "salida 0.2468474131300941\n"
          ]
        }
      ]
    },
    {
      "cell_type": "code",
      "source": [
        "for i in disp_df:\n",
        "  if -0.9<disp_df[i].corr(disp_df[\"salida\"]<0.9):\n",
        "    print(\"correlación salida con \", i, disp_df[i].corr(disp_df[\"salida\"]))"
      ],
      "metadata": {
        "id": "5whCusbJYwuX"
      },
      "execution_count": 9,
      "outputs": []
    },
    {
      "cell_type": "code",
      "source": [
        "import seaborn\n",
        "\n",
        "seaborn.distplot(disp_df[\"apcp_sf5_1\"])\n",
        "#seaborn.distplot(scaled_matrix[4])\n",
        "#seaborn.boxplot(scaled_matrix[4])"
      ],
      "metadata": {
        "id": "xTXeGW5T9WD9",
        "outputId": "42b6592a-6df7-4453-8eb8-556b6d181fd6",
        "colab": {
          "base_uri": "https://localhost:8080/",
          "height": 352
        }
      },
      "execution_count": 26,
      "outputs": [
        {
          "output_type": "stream",
          "name": "stderr",
          "text": [
            "/usr/local/lib/python3.8/dist-packages/seaborn/distributions.py:2619: FutureWarning: `distplot` is a deprecated function and will be removed in a future version. Please adapt your code to use either `displot` (a figure-level function with similar flexibility) or `histplot` (an axes-level function for histograms).\n",
            "  warnings.warn(msg, FutureWarning)\n"
          ]
        },
        {
          "output_type": "execute_result",
          "data": {
            "text/plain": [
              "<AxesSubplot:xlabel='apcp_sf5_1', ylabel='Density'>"
            ]
          },
          "metadata": {},
          "execution_count": 26
        },
        {
          "output_type": "display_data",
          "data": {
            "text/plain": [
              "<Figure size 432x288 with 1 Axes>"
            ],
            "image/png": "[encoded data removed]"
          },
          "metadata": {
            "needs_background": "light"
          }
        }
      ]
    },
    {
      "cell_type": "markdown",
      "source": [],
      "metadata": {
        "id": "qg5chhbkR95B"
      }
    }
  ]
}