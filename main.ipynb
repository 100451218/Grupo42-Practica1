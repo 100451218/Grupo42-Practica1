{
  "nbformat": 4,
  "nbformat_minor": 0,
  "metadata": {
    "colab": {
      "provenance": [],
      "include_colab_link": true
    },
    "kernelspec": {
      "name": "python3",
      "display_name": "Python 3"
    },
    "language_info": {
      "name": "python"
    }
  },
  "cells": [
    {
      "cell_type": "markdown",
      "metadata": {
        "id": "view-in-github",
        "colab_type": "text"
      },
      "source": [
        "<a href=\"https://colab.research.google.com/github/100451218/Grupo42-Practica1/blob/main/main.ipynb\" target=\"_parent\"><img src=\"https://colab.research.google.com/assets/colab-badge.svg\" alt=\"Open In Colab\"/></a>"
      ]
    },
    {
      "cell_type": "markdown",
      "source": [
        "100451218- Sergi Vila\n",
        "100451058-Daniel Obreo"
      ],
      "metadata": {
        "id": "6X8Z1eajr-0a"
      }
    },
    {
      "cell_type": "markdown",
      "source": [
        "Cosas que hemos visto Análisis Exploratorio de Datos\n",
        "1. Qué valores son siempre 0\n",
        "2. Qué valores son constantes\n",
        "3. Qué correlación hay entre columnas"
      ],
      "metadata": {
        "id": "eYkeVq-6WT0b"
      }
    },
    {
      "cell_type": "code",
      "source": [
        "!pip install pd"
      ],
      "metadata": {
        "colab": {
          "base_uri": "https://localhost:8080/"
        },
        "id": "7eRQwNbzKpRW",
        "outputId": "9f19184e-0689-42b3-e02c-db68085d45bb"
      },
      "execution_count": 9,
      "outputs": [
        {
          "output_type": "stream",
          "name": "stdout",
          "text": [
            "Looking in indexes: https://pypi.org/simple, https://us-python.pkg.dev/colab-wheels/public/simple/\n",
            "Requirement already satisfied: pd in /usr/local/lib/python3.8/dist-packages (0.0.4)\n"
          ]
        }
      ]
    },
    {
      "cell_type": "code",
      "source": [
        "print(\"a\"==\"a\")"
      ],
      "metadata": {
        "colab": {
          "base_uri": "https://localhost:8080/"
        },
        "id": "ylKa7nApTSW0",
        "outputId": "b207b480-5592-4afa-f4bd-c6144b5dba27"
      },
      "execution_count": 10,
      "outputs": [
        {
          "output_type": "stream",
          "name": "stdout",
          "text": [
            "True\n"
          ]
        }
      ]
    },
    {
      "cell_type": "code",
      "execution_count": 15,
      "metadata": {
        "id": "0gvfEN5UrgTS",
        "outputId": "9d2ad290-df60-404b-f98a-cb580a2e22cf",
        "colab": {
          "base_uri": "https://localhost:8080/"
        }
      },
      "outputs": [
        {
          "output_type": "stream",
          "name": "stdout",
          "text": [
            "uswrf_s1_1\n"
          ]
        }
      ],
      "source": [
        "import pandas as pd\n",
        "#Importamos los dos conjuntos de datos.\n",
        "disp_df = pd.read_csv(\"disp_st42ns1.txt.bz2\",\n",
        " compression=\"bz2\", \n",
        " index_col=0)\n",
        "comp_df = pd.read_csv(\"comp_st42ns1.txt.bz2\", \n",
        " compression=\"bz2\", \n",
        " index_col=0)\n",
        "#print(disp_df['apcp_sf1_1'][0])\n",
        "pd.set_option('display.max_columns', None)\n",
        "#display(disp_df)\n",
        "for i in disp_df:\n",
        "  if disp_df[i].sum()==0:\n",
        "    print(i)\n",
        "  \"\"\"Con esta linea podemos ver las filas con todos los valores en 0, ya que \n",
        "  vemos después que no hay números negativos\"\"\"\n",
        "  # print(i ,\": \",disp_df[i].value_counts())\n",
        "  for k in range(len(disp_df[i])):\n",
        "    if disp_df[i][k]<0:\n",
        "      \"\"\"Si hubiera un número negativo se imprimiría hay\"\"\"\n",
        "      print(\"Hay\")"
      ]
    },
    {
      "cell_type": "markdown",
      "source": [
        "Hemos podido observar que la columna uswrf_s1_1 es inútil"
      ],
      "metadata": {
        "id": "qROtYg7BPT1_"
      }
    },
    {
      "cell_type": "code",
      "source": [
        "#También vamos a comprobar si el valor es constante\n",
        "\"\"\"print(disp_df[\"uswrf_s1_1\"].nunique())\"\"\"\n",
        "#Cómo hemos dicho antes, sólo hay un número único\n",
        "for i in disp_df:\n",
        "  if disp_df[i].nunique()==1:\n",
        "    print(i)"
      ],
      "metadata": {
        "colab": {
          "base_uri": "https://localhost:8080/"
        },
        "id": "DoQ1g-9jPZRJ",
        "outputId": "eb901941-1986-4d49-bf1a-d3ad3c95f84b"
      },
      "execution_count": 16,
      "outputs": [
        {
          "output_type": "stream",
          "name": "stdout",
          "text": [
            "uswrf_s1_1\n"
          ]
        }
      ]
    },
    {
      "cell_type": "code",
      "source": [
        "from IPython.core.display import display_pdf\n",
        "list=[]\n",
        "for i in disp_df:\n",
        "  for k in disp_df:\n",
        "    \"\"\"print(disp_df[i].corr(disp_df[k]))\"\"\"\n",
        "    #Esto nos sirve para saber que 1 es el máximo\n",
        "    if i!=k and not -0.999<=disp_df[i].corr(disp_df[k])<=0.999 and i!=\"uswrf_s1_1\" and k!=\"uswrf_s1_1\":\n",
        "      if [i,k] not in list and [k,i] not in list:\n",
        "        list.append([i,k])\n",
        "        print(i,\", \",k,\" : \",disp_df[i].corr(disp_df[k]))\n",
        "      \n",
        "#print(list)"
      ],
      "metadata": {
        "colab": {
          "base_uri": "https://localhost:8080/"
        },
        "id": "vq1zcsNlQvS9",
        "outputId": "1d9a5441-d2c2-4711-f532-a956a5c7180f"
      },
      "execution_count": 17,
      "outputs": [
        {
          "output_type": "stream",
          "name": "stdout",
          "text": [
            "tcdc_ea1_1 ,  tcolc_e1_1  :  0.999977884315217\n",
            "tcdc_ea2_1 ,  tcolc_e2_1  :  0.9999803755794225\n",
            "tcdc_ea3_1 ,  tcolc_e3_1  :  0.9999795855646263\n",
            "tcdc_ea4_1 ,  tcolc_e4_1  :  0.999975898110073\n",
            "tcdc_ea5_1 ,  tcolc_e5_1  :  0.9999715058573335\n",
            "tmax_2m2_1 ,  tmp_2m_2_1  :  0.9992834032396157\n",
            "tmax_2m3_1 ,  tmp_2m_3_1  :  0.9994790214287826\n",
            "tmax_2m4_1 ,  tmax_2m5_1  :  0.9997763091522931\n",
            "tmax_2m4_1 ,  tmp_2m_4_1  :  0.9993337962089638\n",
            "tmax_2m5_1 ,  tmp_2m_4_1  :  0.9992067250706518\n",
            "tmin_2m2_1 ,  tmin_2m3_1  :  0.9999115519778132\n",
            "tmin_2m4_1 ,  tmp_2m_3_1  :  0.9993742471589702\n"
          ]
        }
      ]
    },
    {
      "cell_type": "code",
      "source": [
        "#display(disp_df)\n",
        "import numpy as np\n",
        "from numpy.lib.function_base import disp\n",
        "import pandas as pd\n",
        "for i in disp_df:\n",
        "  for k in range(len(disp_df[i])):\n",
        "    if disp_df[i][k]==np.nan:\n",
        "      print(i)"
      ],
      "metadata": {
        "id": "odeG4E4HTrNl"
      },
      "execution_count": 18,
      "outputs": []
    },
    {
      "cell_type": "markdown",
      "source": [
        "Normalización de los datos y comprobación de la desviación estandar"
      ],
      "metadata": {
        "id": "Xo6yQRiY4EE_"
      }
    },
    {
      "cell_type": "code",
      "source": [
        "from sklearn.preprocessing import RobustScaler\n",
        "pd.set_option('display.max_rows', None)\n",
        "#display(disp_df.var())\n",
        "X=pd.DataFrame(disp_df)\n",
        "X.drop(columns=X.columns[0], axis=1, inplace=True)\n",
        "a=RobustScaler().fit_transform(X)\n",
        "#Creemos que necesitamos hacer la normalización más adelante y al splited data\n",
        "index = 0\n",
        "for i in disp_df:\n",
        "  print(i, \": \", a[index].std())\n",
        "  index += 1"
      ],
      "metadata": {
        "colab": {
          "base_uri": "https://localhost:8080/"
        },
        "id": "XVUElA1sUgpq",
        "outputId": "832a57c1-fc98-441b-b48b-87212f37529b"
      },
      "execution_count": 58,
      "outputs": [
        {
          "output_type": "stream",
          "name": "stdout",
          "text": [
            "apcp_sf1_1 :  0.3549581904009302\n",
            "apcp_sf2_1 :  0.841010162158696\n",
            "apcp_sf3_1 :  0.36189684755834844\n",
            "apcp_sf4_1 :  0.5130055023511788\n",
            "apcp_sf5_1 :  1.2078891182057794\n",
            "dlwrf_s1_1 :  0.5846436833901029\n",
            "dlwrf_s2_1 :  0.8185171765181092\n",
            "dlwrf_s3_1 :  0.5470877389559392\n",
            "dlwrf_s4_1 :  0.4579528431672665\n",
            "dlwrf_s5_1 :  0.3620816029004481\n",
            "dswrf_s1_1 :  0.5004910502182408\n",
            "dswrf_s2_1 :  0.6372733590264738\n",
            "dswrf_s3_1 :  0.3734678787300862\n",
            "dswrf_s4_1 :  0.3569178196956749\n",
            "dswrf_s5_1 :  0.7135184702813251\n",
            "pres_ms1_1 :  2.6618940012901864\n",
            "pres_ms2_1 :  0.5983367414812061\n",
            "pres_ms3_1 :  0.9481768736214795\n",
            "pres_ms4_1 :  0.5535490088513862\n",
            "pres_ms5_1 :  1.6612619074078052\n",
            "pwat_ea1_1 :  0.9558500049616077\n",
            "pwat_ea2_1 :  1.2946432956083607\n",
            "pwat_ea3_1 :  0.34091985071606945\n",
            "pwat_ea4_1 :  0.7392691459917142\n",
            "pwat_ea5_1 :  0.5729304604740146\n",
            "spfh_2m1_1 :  0.3367598249568621\n",
            "spfh_2m2_1 :  0.5196738289487649\n",
            "spfh_2m3_1 :  0.5091122859603238\n",
            "spfh_2m4_1 :  0.9062750562245723\n",
            "spfh_2m5_1 :  104.94667967084364\n",
            "tcdc_ea1_1 :  1.0689153674231477\n",
            "tcdc_ea2_1 :  0.731521165896203\n",
            "tcdc_ea3_1 :  0.8197195685235422\n",
            "tcdc_ea4_1 :  0.6338118545667835\n",
            "tcdc_ea5_1 :  0.48418222412983153\n",
            "tcolc_e1_1 :  0.4200072221140048\n",
            "tcolc_e2_1 :  0.2834557874943867\n",
            "tcolc_e3_1 :  2.2047136346603367\n",
            "tcolc_e4_1 :  1.9909941637413289\n",
            "tcolc_e5_1 :  0.8170773548808515\n",
            "tmax_2m1_1 :  0.5906447714558154\n",
            "tmax_2m2_1 :  0.5525979170253186\n",
            "tmax_2m3_1 :  0.48831496665512497\n",
            "tmax_2m4_1 :  0.7748261774794225\n",
            "tmax_2m5_1 :  1.0556317095061905\n",
            "tmin_2m1_1 :  0.4660235377444758\n",
            "tmin_2m2_1 :  0.4081567811810815\n",
            "tmin_2m3_1 :  0.7099982490432902\n",
            "tmin_2m4_1 :  2.9949253317777695\n",
            "tmin_2m5_1 :  1.3134414570593738\n",
            "tmp_2m_1_1 :  0.3043893095502298\n",
            "tmp_2m_2_1 :  331.06344670857374\n",
            "tmp_2m_3_1 :  80.19453128622688\n",
            "tmp_2m_4_1 :  0.5071916059827826\n",
            "tmp_2m_5_1 :  0.3176082182984717\n",
            "tmp_sfc1_1 :  0.5125340250538926\n",
            "tmp_sfc2_1 :  0.6981192461390868\n",
            "tmp_sfc3_1 :  0.4683037360952436\n",
            "tmp_sfc4_1 :  10.994741730987863\n",
            "tmp_sfc5_1 :  11.429979667137815\n",
            "ulwrf_s1_1 :  0.34603303202702157\n",
            "ulwrf_s2_1 :  0.3173110105481067\n",
            "ulwrf_s3_1 :  0.17087413248124186\n",
            "ulwrf_s4_1 :  0.15052579797720453\n",
            "ulwrf_s5_1 :  0.8542215593057377\n",
            "ulwrf_t1_1 :  2.669253723237124\n",
            "ulwrf_t2_1 :  98.87324692493732\n",
            "ulwrf_t3_1 :  0.7565418975564678\n",
            "ulwrf_t4_1 :  0.5468198644497344\n",
            "ulwrf_t5_1 :  0.48268649097590366\n",
            "uswrf_s1_1 :  61.30089759131841\n",
            "uswrf_s2_1 :  0.49951536035031696\n",
            "uswrf_s3_1 :  0.23367363543692424\n",
            "uswrf_s4_1 :  0.1398192793950643\n",
            "uswrf_s5_1 :  0.19024684236597117\n",
            "salida :  0.4602114161441571\n"
          ]
        }
      ]
    },
    {
      "cell_type": "code",
      "source": [
        "for i in disp_df:\n",
        "  print(i, disp_df[i].std())"
      ],
      "metadata": {
        "id": "5whCusbJYwuX",
        "outputId": "2181b990-5791-4f10-a05f-71d918ba77d6",
        "colab": {
          "base_uri": "https://localhost:8080/"
        }
      },
      "execution_count": 24,
      "outputs": [
        {
          "output_type": "stream",
          "name": "stdout",
          "text": [
            "apcp_sf1_1 1.4780750151073894\n",
            "apcp_sf2_1 0.6804857836848595\n",
            "apcp_sf3_1 1.2559464328036403\n",
            "apcp_sf4_1 0.6902865527001909\n",
            "apcp_sf5_1 1.4131434871616073\n",
            "dlwrf_s1_1 53.10070977881974\n",
            "dlwrf_s2_1 54.95948788700935\n",
            "dlwrf_s3_1 56.91850050187975\n",
            "dlwrf_s4_1 61.350007610595995\n",
            "dlwrf_s5_1 61.223000993516976\n",
            "dswrf_s1_1 0.11261614127640085\n",
            "dswrf_s2_1 103.83869796908239\n",
            "dswrf_s3_1 149.14915167601714\n",
            "dswrf_s4_1 209.9308478506178\n",
            "dswrf_s5_1 187.59170637322353\n",
            "pres_ms1_1 768.3958418718606\n",
            "pres_ms2_1 774.4159733336029\n",
            "pres_ms3_1 765.4426823702062\n",
            "pres_ms4_1 749.3895448769916\n",
            "pres_ms5_1 775.2564820689345\n",
            "pwat_ea1_1 10.725089458131157\n",
            "pwat_ea2_1 10.695339982469688\n",
            "pwat_ea3_1 10.758901757416552\n",
            "pwat_ea4_1 10.836422375237401\n",
            "pwat_ea5_1 10.928000090878747\n",
            "spfh_2m1_1 0.003968471510746701\n",
            "spfh_2m2_1 0.004139078641059376\n",
            "spfh_2m3_1 0.004008010398439483\n",
            "spfh_2m4_1 0.003760254320603328\n",
            "spfh_2m5_1 0.0037776210967862614\n",
            "tcdc_ea1_1 0.13672712395204112\n",
            "tcdc_ea2_1 0.1402475731803958\n",
            "tcdc_ea3_1 0.13337209987245166\n",
            "tcdc_ea4_1 0.1271027154094376\n",
            "tcdc_ea5_1 0.13374327380478299\n",
            "tcolc_e1_1 0.13656842498133093\n",
            "tcolc_e2_1 0.14009665725552115\n",
            "tcolc_e3_1 0.13324721490826777\n",
            "tcolc_e4_1 0.12695657234153795\n",
            "tcolc_e5_1 0.13361530853168968\n",
            "tmax_2m1_1 9.387028901623747\n",
            "tmax_2m2_1 10.103026236903462\n",
            "tmax_2m3_1 10.385423017030877\n",
            "tmax_2m4_1 10.422247261924566\n",
            "tmax_2m5_1 10.40864830764294\n",
            "tmin_2m1_1 9.010697309216413\n",
            "tmin_2m2_1 9.095930021512325\n",
            "tmin_2m3_1 9.098273834463402\n",
            "tmin_2m4_1 10.437359035945764\n",
            "tmin_2m5_1 10.90125269506012\n",
            "tmp_2m_1_1 8.93161531597972\n",
            "tmp_2m_2_1 10.159993440854342\n",
            "tmp_2m_3_1 10.419890291434433\n",
            "tmp_2m_4_1 10.444422637022736\n",
            "tmp_2m_5_1 11.034149918335986\n",
            "tmp_sfc1_1 9.071639885066409\n",
            "tmp_sfc2_1 11.155740668024093\n",
            "tmp_sfc3_1 11.13138126120635\n",
            "tmp_sfc4_1 11.096751501625375\n",
            "tmp_sfc5_1 11.67754840229823\n",
            "ulwrf_s1_1 48.307726046507014\n",
            "ulwrf_s2_1 54.148188349968834\n",
            "ulwrf_s3_1 58.867493835158776\n",
            "ulwrf_s4_1 67.54022977175656\n",
            "ulwrf_s5_1 66.81588907013611\n",
            "ulwrf_t1_1 34.98041786544565\n",
            "ulwrf_t2_1 35.07593851727268\n",
            "ulwrf_t3_1 35.71470004975793\n",
            "ulwrf_t4_1 40.24680347745925\n",
            "ulwrf_t5_1 39.334235078449026\n",
            "uswrf_s1_1 0.0\n",
            "uswrf_s2_1 27.92387330030767\n",
            "uswrf_s3_1 32.33524692135016\n",
            "uswrf_s4_1 39.23286950942655\n",
            "uswrf_s5_1 37.07866877898825\n",
            "salida 7898549.471112811\n"
          ]
        }
      ]
    },
    {
      "cell_type": "markdown",
      "source": [],
      "metadata": {
        "id": "qg5chhbkR95B"
      }
    }
  ]
}